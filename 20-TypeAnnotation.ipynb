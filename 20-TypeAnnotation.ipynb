{
 "cells": [
  {
   "cell_type": "code",
   "execution_count": 1,
   "id": "47bf0a70-43d2-454e-9855-ef79b19660d8",
   "metadata": {},
   "outputs": [],
   "source": [
    "name : str = \"Mustafa\"\n",
    "age : int = 21\n",
    "is_student : bool = True"
   ]
  },
  {
   "cell_type": "code",
   "execution_count": 2,
   "id": "4f63dac8-f404-4250-ab38-dfb3b62c5e04",
   "metadata": {},
   "outputs": [
    {
     "data": {
      "text/plain": [
       "str"
      ]
     },
     "execution_count": 2,
     "metadata": {},
     "output_type": "execute_result"
    }
   ],
   "source": [
    "type(name)"
   ]
  },
  {
   "cell_type": "code",
   "execution_count": 3,
   "id": "4792ceff-6273-462d-8328-d43b2fd0249b",
   "metadata": {},
   "outputs": [],
   "source": [
    "surname : str = 20"
   ]
  },
  {
   "cell_type": "code",
   "execution_count": 4,
   "id": "2fcbb42f-81d6-4656-98ed-36546f1e8705",
   "metadata": {},
   "outputs": [
    {
     "data": {
      "text/plain": [
       "int"
      ]
     },
     "execution_count": 4,
     "metadata": {},
     "output_type": "execute_result"
    }
   ],
   "source": [
    "type(surname)"
   ]
  },
  {
   "cell_type": "code",
   "execution_count": 5,
   "id": "212eece4-c125-47a4-a481-f61d5ad72cb4",
   "metadata": {},
   "outputs": [],
   "source": [
    "def add_numbers(a: int,b: int) -> int:\n",
    "    return a + b"
   ]
  },
  {
   "cell_type": "code",
   "execution_count": 6,
   "id": "f3fa51c0-8416-4370-9132-ec454a259ea2",
   "metadata": {},
   "outputs": [
    {
     "data": {
      "text/plain": [
       "9"
      ]
     },
     "execution_count": 6,
     "metadata": {},
     "output_type": "execute_result"
    }
   ],
   "source": [
    "add_numbers(4,5)"
   ]
  },
  {
   "cell_type": "code",
   "execution_count": 7,
   "id": "0a178b5b-d509-40f4-8704-db1713f5e8b5",
   "metadata": {},
   "outputs": [],
   "source": [
    "#python 3.10\n",
    "def process_value(value: int | str) -> str:\n",
    "    if isinstance(value, int):\n",
    "        return f\"processed integer: {value}\"\n",
    "    else:\n",
    "        return f\"processed string: {value}\""
   ]
  },
  {
   "cell_type": "code",
   "execution_count": 8,
   "id": "f0873f2f-cd03-401f-9fb7-0b75c0647217",
   "metadata": {},
   "outputs": [
    {
     "data": {
      "text/plain": [
       "'processed integer: 50'"
      ]
     },
     "execution_count": 8,
     "metadata": {},
     "output_type": "execute_result"
    }
   ],
   "source": [
    "process_value(50)"
   ]
  },
  {
   "cell_type": "code",
   "execution_count": 9,
   "id": "11213dd9-7d37-430c-92f7-ddd66cfe374e",
   "metadata": {},
   "outputs": [
    {
     "data": {
      "text/plain": [
       "'processed string: adsd'"
      ]
     },
     "execution_count": 9,
     "metadata": {},
     "output_type": "execute_result"
    }
   ],
   "source": [
    "process_value(\"adsd\")"
   ]
  },
  {
   "cell_type": "code",
   "execution_count": 10,
   "id": "36bb2585-a08d-4308-acde-2e74a7ff3101",
   "metadata": {},
   "outputs": [],
   "source": [
    "a =  process_value([10,20,30])"
   ]
  },
  {
   "cell_type": "code",
   "execution_count": 11,
   "id": "55d6a04a-c23e-40ac-8816-85a930cdf84b",
   "metadata": {},
   "outputs": [
    {
     "data": {
      "text/plain": [
       "'processed string: [10, 20, 30]'"
      ]
     },
     "execution_count": 11,
     "metadata": {},
     "output_type": "execute_result"
    }
   ],
   "source": [
    "a"
   ]
  },
  {
   "cell_type": "code",
   "execution_count": 12,
   "id": "0e397805-e9bd-4a92-a58d-6e84e36323b5",
   "metadata": {},
   "outputs": [
    {
     "data": {
      "text/plain": [
       "str"
      ]
     },
     "execution_count": 12,
     "metadata": {},
     "output_type": "execute_result"
    }
   ],
   "source": [
    "type(a)"
   ]
  },
  {
   "cell_type": "code",
   "execution_count": 13,
   "id": "0a634d01-5efb-4762-8324-fa3b05c74fbd",
   "metadata": {},
   "outputs": [],
   "source": [
    "#python 3.9\n",
    "from typing import List\n",
    "\n",
    "def sum_list(numbers: List[int]) -> int:\n",
    "    return sum(numbers)"
   ]
  },
  {
   "cell_type": "code",
   "execution_count": 14,
   "id": "06813933-68c1-47bb-b65c-3c0faedd8286",
   "metadata": {},
   "outputs": [],
   "source": [
    "numbers = [1,2,3,4]\n",
    "total = sum_list(numbers)"
   ]
  },
  {
   "cell_type": "code",
   "execution_count": 15,
   "id": "76ef6cb1-f548-4252-a6f1-3c627ca826ac",
   "metadata": {},
   "outputs": [
    {
     "data": {
      "text/plain": [
       "10"
      ]
     },
     "execution_count": 15,
     "metadata": {},
     "output_type": "execute_result"
    }
   ],
   "source": [
    "total"
   ]
  }
 ],
 "metadata": {
  "kernelspec": {
   "display_name": "Python 3 (ipykernel)",
   "language": "python",
   "name": "python3"
  },
  "language_info": {
   "codemirror_mode": {
    "name": "ipython",
    "version": 3
   },
   "file_extension": ".py",
   "mimetype": "text/x-python",
   "name": "python",
   "nbconvert_exporter": "python",
   "pygments_lexer": "ipython3",
   "version": "3.12.7"
  }
 },
 "nbformat": 4,
 "nbformat_minor": 5
}
