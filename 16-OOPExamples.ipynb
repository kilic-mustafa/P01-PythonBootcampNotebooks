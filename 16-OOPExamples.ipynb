{
 "cells": [
  {
   "cell_type": "markdown",
   "id": "16c6fb52-b8f0-4c5d-a973-d86031820d92",
   "metadata": {},
   "source": [
    "**inheritance**"
   ]
  },
  {
   "cell_type": "code",
   "execution_count": 1,
   "id": "3d95fed8-5aa7-4f57-a126-f882febf7384",
   "metadata": {},
   "outputs": [],
   "source": [
    "class Musician():\n",
    "\n",
    "    def __init__(self,name):\n",
    "        self.name = name\n",
    "        print(\"musician class\")\n",
    "\n",
    "    def test1(self):\n",
    "        print(\"test1\")\n",
    "        \n",
    "    def test2(self):\n",
    "        print(\"test2\")"
   ]
  },
  {
   "cell_type": "code",
   "execution_count": 2,
   "id": "87e63616-9a72-4ebb-8ac6-5ca7c4ed451a",
   "metadata": {},
   "outputs": [
    {
     "name": "stdout",
     "output_type": "stream",
     "text": [
      "musician class\n"
     ]
    }
   ],
   "source": [
    "mustafa = Musician(\"mustafa\")"
   ]
  },
  {
   "cell_type": "code",
   "execution_count": 3,
   "id": "97fe95ce-36ca-4a51-96ec-a72e91bf1701",
   "metadata": {},
   "outputs": [
    {
     "data": {
      "text/plain": [
       "'mustafa'"
      ]
     },
     "execution_count": 3,
     "metadata": {},
     "output_type": "execute_result"
    }
   ],
   "source": [
    "mustafa.name"
   ]
  },
  {
   "cell_type": "code",
   "execution_count": 4,
   "id": "273955eb-2d2a-423e-b2fb-e1fbe3792877",
   "metadata": {},
   "outputs": [
    {
     "name": "stdout",
     "output_type": "stream",
     "text": [
      "test1\n"
     ]
    }
   ],
   "source": [
    "mustafa.test1()"
   ]
  },
  {
   "cell_type": "code",
   "execution_count": 5,
   "id": "f7e48884-e111-45c7-b66c-97ab871ce875",
   "metadata": {},
   "outputs": [
    {
     "name": "stdout",
     "output_type": "stream",
     "text": [
      "test2\n"
     ]
    }
   ],
   "source": [
    "mustafa.test2()"
   ]
  },
  {
   "cell_type": "code",
   "execution_count": 6,
   "id": "ae3b7adb-16d7-469d-bc88-49c1f9236875",
   "metadata": {},
   "outputs": [],
   "source": [
    "class MusicianPlus(Musician):\n",
    "\n",
    "    def __init__(self,name):\n",
    "        Musician.__init__(self,name)\n",
    "        print(\"musician plus\")\n",
    "\n",
    "    def test3(self):\n",
    "        print(\"test3\")\n",
    "        \n",
    "    #override\n",
    "    def test1(self):\n",
    "        print(\"test1 test1 test1\")"
   ]
  },
  {
   "cell_type": "code",
   "execution_count": 7,
   "id": "de9245d4-db15-4f77-b2b9-a116d3ca296e",
   "metadata": {},
   "outputs": [
    {
     "name": "stdout",
     "output_type": "stream",
     "text": [
      "musician class\n",
      "musician plus\n"
     ]
    }
   ],
   "source": [
    "atlas = MusicianPlus(\"atlas\")"
   ]
  },
  {
   "cell_type": "code",
   "execution_count": 8,
   "id": "70afb266-f768-4346-b932-23fb8289eea0",
   "metadata": {},
   "outputs": [
    {
     "name": "stdout",
     "output_type": "stream",
     "text": [
      "test1 test1 test1\n"
     ]
    }
   ],
   "source": [
    "atlas.test1()"
   ]
  },
  {
   "cell_type": "code",
   "execution_count": 9,
   "id": "91515329-5cfa-4e8e-a185-1ebfda3f0408",
   "metadata": {},
   "outputs": [
    {
     "name": "stdout",
     "output_type": "stream",
     "text": [
      "test2\n"
     ]
    }
   ],
   "source": [
    "atlas.test2()"
   ]
  },
  {
   "cell_type": "code",
   "execution_count": 10,
   "id": "ce078e2f-d2a5-4e33-918b-b393123601d1",
   "metadata": {},
   "outputs": [],
   "source": [
    "atlas.name = \"Atlas Samancioglu\""
   ]
  },
  {
   "cell_type": "code",
   "execution_count": 11,
   "id": "6ac3dbe0-7297-4264-ad7a-72d9c661e891",
   "metadata": {},
   "outputs": [
    {
     "data": {
      "text/plain": [
       "__main__.MusicianPlus"
      ]
     },
     "execution_count": 11,
     "metadata": {},
     "output_type": "execute_result"
    }
   ],
   "source": [
    "type(atlas)"
   ]
  },
  {
   "cell_type": "code",
   "execution_count": 12,
   "id": "b25b3ac0-809e-404e-ba52-a223e333a6e8",
   "metadata": {},
   "outputs": [
    {
     "name": "stdout",
     "output_type": "stream",
     "text": [
      "test3\n"
     ]
    }
   ],
   "source": [
    "atlas.test3()"
   ]
  },
  {
   "cell_type": "code",
   "execution_count": 13,
   "id": "68bebf33-d9a0-46d7-aa9c-7dc49fb23213",
   "metadata": {},
   "outputs": [
    {
     "data": {
      "text/plain": [
       "__main__.MusicianPlus"
      ]
     },
     "execution_count": 13,
     "metadata": {},
     "output_type": "execute_result"
    }
   ],
   "source": [
    "type(atlas)"
   ]
  },
  {
   "cell_type": "code",
   "execution_count": 14,
   "id": "9e87988f-c483-4aee-8476-14d2db53df9a",
   "metadata": {},
   "outputs": [
    {
     "name": "stdout",
     "output_type": "stream",
     "text": [
      "test1\n"
     ]
    }
   ],
   "source": [
    "mustafa.test1()"
   ]
  },
  {
   "cell_type": "code",
   "execution_count": 15,
   "id": "0781904e-17a7-492f-b8ef-8f51e60b0996",
   "metadata": {},
   "outputs": [
    {
     "name": "stdout",
     "output_type": "stream",
     "text": [
      "test1 test1 test1\n"
     ]
    }
   ],
   "source": [
    "atlas.test1()"
   ]
  },
  {
   "cell_type": "markdown",
   "id": "4d2dc85c-db5a-4f1a-8e24-a2b09a201dd7",
   "metadata": {},
   "source": [
    "**polymorphism**"
   ]
  },
  {
   "cell_type": "code",
   "execution_count": 16,
   "id": "a1f686f6-a061-4912-a1f5-b1d75b71ca02",
   "metadata": {},
   "outputs": [],
   "source": [
    "class Banana():\n",
    "\n",
    "    def __init__(self,name):\n",
    "        self.name = name\n",
    "\n",
    "    def info(self):\n",
    "        return f\"100 calories {self.name}\"\n",
    "\n",
    "class Apple():\n",
    "\n",
    "    def __init__(self,name):\n",
    "        self.name = name\n",
    "\n",
    "    def info(self):\n",
    "        return f\"150 calories {self.name}\""
   ]
  },
  {
   "cell_type": "code",
   "execution_count": 17,
   "id": "559f6e7e-48af-4c8a-997c-cfd611a0c5ec",
   "metadata": {},
   "outputs": [],
   "source": [
    "banana = Banana(\"banana\")"
   ]
  },
  {
   "cell_type": "code",
   "execution_count": 18,
   "id": "e540bfe7-fec6-4667-bb85-1860fee692dc",
   "metadata": {},
   "outputs": [],
   "source": [
    "apple = Apple(\"apple\")"
   ]
  },
  {
   "cell_type": "code",
   "execution_count": 19,
   "id": "f086216a-2cb3-40b8-b842-895065ce2742",
   "metadata": {},
   "outputs": [
    {
     "data": {
      "text/plain": [
       "'100 calories banana'"
      ]
     },
     "execution_count": 19,
     "metadata": {},
     "output_type": "execute_result"
    }
   ],
   "source": [
    "banana.info()"
   ]
  },
  {
   "cell_type": "code",
   "execution_count": 20,
   "id": "27350cdc-6843-47e1-be30-36d4fe3c1d64",
   "metadata": {},
   "outputs": [
    {
     "data": {
      "text/plain": [
       "'150 calories apple'"
      ]
     },
     "execution_count": 20,
     "metadata": {},
     "output_type": "execute_result"
    }
   ],
   "source": [
    "apple.info()"
   ]
  },
  {
   "cell_type": "code",
   "execution_count": 21,
   "id": "83ca7bda-f99a-4dd5-9363-295d3bb694c8",
   "metadata": {},
   "outputs": [],
   "source": [
    "fruitList = [banana,apple]"
   ]
  },
  {
   "cell_type": "code",
   "execution_count": 22,
   "id": "cccbcbb7-67cd-4524-a80e-f7a106b6f18f",
   "metadata": {},
   "outputs": [
    {
     "name": "stdout",
     "output_type": "stream",
     "text": [
      "100 calories banana\n",
      "150 calories apple\n"
     ]
    }
   ],
   "source": [
    "for fruit in fruitList:\n",
    "    print(fruit.info())"
   ]
  },
  {
   "cell_type": "markdown",
   "id": "66502609-23f3-427d-8012-aee0ca6caf0f",
   "metadata": {},
   "source": [
    "**encapsulation**"
   ]
  },
  {
   "cell_type": "code",
   "execution_count": 23,
   "id": "3247fbec-4af7-46b6-a2c9-23d0dea533e4",
   "metadata": {},
   "outputs": [],
   "source": [
    "class Phone():\n",
    "\n",
    "    def __init__(self,name,price):\n",
    "        self.name = name\n",
    "        self.__price = price\n",
    "\n",
    "    def info(self):\n",
    "        print(f\"{self.name} price is: {self.__price}\")\n",
    "\n",
    "    def changePrice(self,price):\n",
    "        self.__price = price"
   ]
  },
  {
   "cell_type": "code",
   "execution_count": 24,
   "id": "34542ad9-8b5f-41b8-b147-74fdbd395811",
   "metadata": {},
   "outputs": [],
   "source": [
    "iphone = Phone(\"Iphone 16 Pro Max\",100000)"
   ]
  },
  {
   "cell_type": "code",
   "execution_count": 25,
   "id": "d2e94cb5-a5d4-4232-869a-8f335679ef1f",
   "metadata": {},
   "outputs": [
    {
     "name": "stdout",
     "output_type": "stream",
     "text": [
      "Iphone 16 Pro Max price is: 100000\n"
     ]
    }
   ],
   "source": [
    "iphone.info()"
   ]
  },
  {
   "cell_type": "code",
   "execution_count": 26,
   "id": "bb05baaf-9926-4adf-b7b6-16ee4974a534",
   "metadata": {},
   "outputs": [],
   "source": [
    "iphone.__price = 80000"
   ]
  },
  {
   "cell_type": "code",
   "execution_count": 27,
   "id": "05428a38-d5a0-48fb-85bc-c6da568583ce",
   "metadata": {},
   "outputs": [
    {
     "name": "stdout",
     "output_type": "stream",
     "text": [
      "Iphone 16 Pro Max price is: 100000\n"
     ]
    }
   ],
   "source": [
    "iphone.info()"
   ]
  },
  {
   "cell_type": "code",
   "execution_count": 28,
   "id": "569595a5-a48a-4c67-99ff-e907bd81d8c3",
   "metadata": {},
   "outputs": [],
   "source": [
    "iphone.changePrice(200000)"
   ]
  },
  {
   "cell_type": "code",
   "execution_count": 29,
   "id": "97edc37f-d581-4574-8bee-d412a58d990e",
   "metadata": {},
   "outputs": [
    {
     "name": "stdout",
     "output_type": "stream",
     "text": [
      "Iphone 16 Pro Max price is: 200000\n"
     ]
    }
   ],
   "source": [
    "iphone.info()"
   ]
  },
  {
   "cell_type": "markdown",
   "id": "1020b0d9-782c-45d3-957a-db1e6c764471",
   "metadata": {},
   "source": [
    "**abstraction**"
   ]
  },
  {
   "cell_type": "code",
   "execution_count": 30,
   "id": "1cc166bc-d176-46e9-85e4-671518b33391",
   "metadata": {},
   "outputs": [],
   "source": [
    "from abc import ABC, abstractmethod"
   ]
  },
  {
   "cell_type": "code",
   "execution_count": 31,
   "id": "26f9be37-898c-4659-8692-8bec3cea7e96",
   "metadata": {},
   "outputs": [],
   "source": [
    "class Car(ABC):\n",
    "    \n",
    "    @abstractmethod\n",
    "    def maxSpeed(self):\n",
    "        pass"
   ]
  },
  {
   "cell_type": "code",
   "execution_count": 32,
   "id": "d6b0fc3c-6307-46e0-821d-a74e8297d09d",
   "metadata": {},
   "outputs": [],
   "source": [
    "#myCar = Car()"
   ]
  },
  {
   "cell_type": "code",
   "execution_count": 33,
   "id": "f2df8034-bbdc-46eb-817f-34e42c149204",
   "metadata": {},
   "outputs": [],
   "source": [
    "class Tesla(Car):\n",
    "    \n",
    "    def maxSpeed(self):\n",
    "        print(\"200km\")"
   ]
  },
  {
   "cell_type": "code",
   "execution_count": 34,
   "id": "108b86ac-29dd-4b97-aefa-f86d1137a619",
   "metadata": {},
   "outputs": [],
   "source": [
    "tesla = Tesla()"
   ]
  },
  {
   "cell_type": "code",
   "execution_count": 35,
   "id": "67129d92-6aab-421b-ab32-1b74358a9bb2",
   "metadata": {},
   "outputs": [
    {
     "name": "stdout",
     "output_type": "stream",
     "text": [
      "200km\n"
     ]
    }
   ],
   "source": [
    "tesla.maxSpeed()"
   ]
  },
  {
   "cell_type": "code",
   "execution_count": 36,
   "id": "8369ccd8-305f-4fe7-982f-ae4ea024df7f",
   "metadata": {},
   "outputs": [],
   "source": [
    "class Mercedes(Car):\n",
    "\n",
    "    def maxSpeed(self):\n",
    "        print(\"250km\")"
   ]
  },
  {
   "cell_type": "code",
   "execution_count": 37,
   "id": "a7a8bc48-0edc-429a-a713-b7b1b6dffa29",
   "metadata": {},
   "outputs": [],
   "source": [
    "mercedes = Mercedes()"
   ]
  },
  {
   "cell_type": "code",
   "execution_count": 38,
   "id": "fe611160-756a-4e78-a8c4-c9a3c740a41f",
   "metadata": {},
   "outputs": [
    {
     "name": "stdout",
     "output_type": "stream",
     "text": [
      "250km\n"
     ]
    }
   ],
   "source": [
    "mercedes.maxSpeed()"
   ]
  },
  {
   "cell_type": "markdown",
   "id": "87d94b37-d3ff-41e0-a808-276c8a88787f",
   "metadata": {},
   "source": [
    "**special methods**"
   ]
  },
  {
   "cell_type": "code",
   "execution_count": 39,
   "id": "f7407675-5f57-4224-bd68-c64719a9b258",
   "metadata": {},
   "outputs": [],
   "source": [
    "class Fruit():\n",
    "\n",
    "    def __init__(self,name,calories):\n",
    "        self.name = name\n",
    "        self.calories = calories\n",
    "\n",
    "    def __str__(self):\n",
    "        return f\"{self.name}: {self.calories} calories\"\n",
    "\n",
    "    def __len__(self):\n",
    "        return self.calories"
   ]
  },
  {
   "cell_type": "code",
   "execution_count": 40,
   "id": "9c8abcfb-3d61-4290-a9d3-d5afa2a7264b",
   "metadata": {},
   "outputs": [],
   "source": [
    "myFruit = Fruit(\"banana\",150)"
   ]
  },
  {
   "cell_type": "code",
   "execution_count": 41,
   "id": "652d490d-00ab-44de-99e5-c0568b12c33b",
   "metadata": {},
   "outputs": [
    {
     "data": {
      "text/plain": [
       "150"
      ]
     },
     "execution_count": 41,
     "metadata": {},
     "output_type": "execute_result"
    }
   ],
   "source": [
    "myFruit.calories"
   ]
  },
  {
   "cell_type": "code",
   "execution_count": 42,
   "id": "cf326a81-977e-4f78-b05c-c996552a43a3",
   "metadata": {},
   "outputs": [
    {
     "data": {
      "text/plain": [
       "'banana'"
      ]
     },
     "execution_count": 42,
     "metadata": {},
     "output_type": "execute_result"
    }
   ],
   "source": [
    "myFruit.name"
   ]
  },
  {
   "cell_type": "code",
   "execution_count": 43,
   "id": "ea4e1c23-6173-434d-a6b3-4e56326887dd",
   "metadata": {},
   "outputs": [
    {
     "name": "stdout",
     "output_type": "stream",
     "text": [
      "banana: 150 calories\n"
     ]
    }
   ],
   "source": [
    "print(myFruit)"
   ]
  },
  {
   "cell_type": "code",
   "execution_count": 44,
   "id": "663c4e3c-fdc0-405f-a3e6-5a8294acc84c",
   "metadata": {},
   "outputs": [],
   "source": [
    "myList = [10,20,30]"
   ]
  },
  {
   "cell_type": "code",
   "execution_count": 45,
   "id": "ec989602-b660-4a49-b03c-09671614c8da",
   "metadata": {},
   "outputs": [
    {
     "data": {
      "text/plain": [
       "3"
      ]
     },
     "execution_count": 45,
     "metadata": {},
     "output_type": "execute_result"
    }
   ],
   "source": [
    "len(myList)"
   ]
  },
  {
   "cell_type": "code",
   "execution_count": 46,
   "id": "8aab4e64-5298-4b01-9e16-07012436bcfc",
   "metadata": {},
   "outputs": [
    {
     "data": {
      "text/plain": [
       "150"
      ]
     },
     "execution_count": 46,
     "metadata": {},
     "output_type": "execute_result"
    }
   ],
   "source": [
    "len(myFruit)"
   ]
  },
  {
   "cell_type": "code",
   "execution_count": 47,
   "id": "6fa79ef3-f4ae-4a4c-98c9-a98aab6168cc",
   "metadata": {},
   "outputs": [],
   "source": [
    "class Train():\n",
    "\n",
    "    def __init__(self,name):\n",
    "        self.name = name\n",
    "        \n",
    "    def __getitem__(self,key):\n",
    "        if key == \"a\":\n",
    "            return self.name\n",
    "        else:\n",
    "            return \"Not found\""
   ]
  },
  {
   "cell_type": "code",
   "execution_count": 48,
   "id": "d1cf8707-e4d9-4583-9064-e6b8333bb897",
   "metadata": {},
   "outputs": [],
   "source": [
    "myTrain = Train(\"myTrain\")"
   ]
  },
  {
   "cell_type": "code",
   "execution_count": 49,
   "id": "e2a562d3-d4e0-4349-bc15-f0e6afd35310",
   "metadata": {},
   "outputs": [
    {
     "data": {
      "text/plain": [
       "'myTrain'"
      ]
     },
     "execution_count": 49,
     "metadata": {},
     "output_type": "execute_result"
    }
   ],
   "source": [
    "myTrain[\"a\"]"
   ]
  },
  {
   "cell_type": "code",
   "execution_count": 50,
   "id": "b8c60d90-7e88-4fa6-ab77-a03c8ea40a0f",
   "metadata": {},
   "outputs": [
    {
     "data": {
      "text/plain": [
       "'Not found'"
      ]
     },
     "execution_count": 50,
     "metadata": {},
     "output_type": "execute_result"
    }
   ],
   "source": [
    "myTrain[\"b\"]"
   ]
  },
  {
   "cell_type": "code",
   "execution_count": 51,
   "id": "728f0666-b9ff-4870-a217-8f009ce683f1",
   "metadata": {},
   "outputs": [],
   "source": [
    "#myFruit[\"a\"]"
   ]
  }
 ],
 "metadata": {
  "kernelspec": {
   "display_name": "Python 3 (ipykernel)",
   "language": "python",
   "name": "python3"
  },
  "language_info": {
   "codemirror_mode": {
    "name": "ipython",
    "version": 3
   },
   "file_extension": ".py",
   "mimetype": "text/x-python",
   "name": "python",
   "nbconvert_exporter": "python",
   "pygments_lexer": "ipython3",
   "version": "3.12.7"
  }
 },
 "nbformat": 4,
 "nbformat_minor": 5
}
