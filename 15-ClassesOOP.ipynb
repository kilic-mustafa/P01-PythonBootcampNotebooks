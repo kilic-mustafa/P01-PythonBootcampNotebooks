{
 "cells": [
  {
   "cell_type": "code",
   "execution_count": 1,
   "id": "9e63be9a-6fca-4a0f-8b21-af227d6a6b37",
   "metadata": {},
   "outputs": [],
   "source": [
    "mustafaName = \"Mustafa\""
   ]
  },
  {
   "cell_type": "code",
   "execution_count": 2,
   "id": "3802ca73-8845-4fb1-88b1-42c6e0c9f1de",
   "metadata": {},
   "outputs": [],
   "source": [
    "mustafaAge = 90"
   ]
  },
  {
   "cell_type": "code",
   "execution_count": 3,
   "id": "06f65ace-85ee-460d-b071-040a8b1ab064",
   "metadata": {},
   "outputs": [],
   "source": [
    "mustafaGender = \"Male\""
   ]
  },
  {
   "cell_type": "code",
   "execution_count": 4,
   "id": "b5f05c0e-1a68-4e15-8808-9ddbab6faebe",
   "metadata": {},
   "outputs": [],
   "source": [
    "atlasName = \"Atlas\""
   ]
  },
  {
   "cell_type": "code",
   "execution_count": 5,
   "id": "b8f4c7ff-2880-4432-a4a4-d0fd2b543e35",
   "metadata": {},
   "outputs": [],
   "source": [
    "atlasAge = 10"
   ]
  },
  {
   "cell_type": "code",
   "execution_count": 6,
   "id": "91b15285-860e-406b-b5f9-6c9967ca77de",
   "metadata": {},
   "outputs": [],
   "source": [
    "atlasGender = \"Male\""
   ]
  },
  {
   "cell_type": "code",
   "execution_count": 7,
   "id": "08a67b98-adf7-4479-97cb-c92e51598f4e",
   "metadata": {},
   "outputs": [],
   "source": [
    "class Person():\n",
    "    name = \"\"\n",
    "    age = 0\n",
    "    gender = \"\""
   ]
  },
  {
   "cell_type": "code",
   "execution_count": 8,
   "id": "9626478f-c4e0-47ac-8e27-15e68beb2bfc",
   "metadata": {},
   "outputs": [],
   "source": [
    "myList = list()"
   ]
  },
  {
   "cell_type": "code",
   "execution_count": 9,
   "id": "0bc294fb-a41f-4d5d-9c97-8014919cd5d0",
   "metadata": {},
   "outputs": [
    {
     "data": {
      "text/plain": [
       "list"
      ]
     },
     "execution_count": 9,
     "metadata": {},
     "output_type": "execute_result"
    }
   ],
   "source": [
    "type(myList)"
   ]
  },
  {
   "cell_type": "code",
   "execution_count": 10,
   "id": "96872270-ac18-47d9-b96d-72e099d39bac",
   "metadata": {},
   "outputs": [],
   "source": [
    "atil = Person()"
   ]
  },
  {
   "cell_type": "code",
   "execution_count": 11,
   "id": "b294f5ed-7fee-4242-8347-d0e870292376",
   "metadata": {},
   "outputs": [
    {
     "data": {
      "text/plain": [
       "__main__.Person"
      ]
     },
     "execution_count": 11,
     "metadata": {},
     "output_type": "execute_result"
    }
   ],
   "source": [
    "type(atil)"
   ]
  },
  {
   "cell_type": "code",
   "execution_count": 12,
   "id": "896f9912-a17a-42bf-a78d-18bd952270b9",
   "metadata": {},
   "outputs": [],
   "source": [
    "atil.age = 35"
   ]
  },
  {
   "cell_type": "code",
   "execution_count": 13,
   "id": "c5980835-8c28-499d-924c-e21a16063793",
   "metadata": {},
   "outputs": [],
   "source": [
    "atil.name = \"Atil Samancioglu\""
   ]
  },
  {
   "cell_type": "code",
   "execution_count": 14,
   "id": "31dc515a-76da-41ae-9a75-7e6b3e46eeef",
   "metadata": {},
   "outputs": [],
   "source": [
    "atil.gender = \"Male\""
   ]
  },
  {
   "cell_type": "code",
   "execution_count": 15,
   "id": "99b8a0f8-2b9f-41b4-ad64-70ac63576606",
   "metadata": {},
   "outputs": [],
   "source": [
    "class Person():\n",
    "    name = \"\"\n",
    "    age = 0\n",
    "    gender = \"\"\n",
    "\n",
    "    #method, initializer\n",
    "    def __init__(self): \n",
    "        print(\"init executed\")"
   ]
  },
  {
   "cell_type": "code",
   "execution_count": 16,
   "id": "caf974dc-2449-4d26-a1fa-db858dbb2b9b",
   "metadata": {},
   "outputs": [
    {
     "name": "stdout",
     "output_type": "stream",
     "text": [
      "init executed\n"
     ]
    }
   ],
   "source": [
    "atil = Person()"
   ]
  },
  {
   "cell_type": "code",
   "execution_count": 17,
   "id": "102a331b-23cc-4b06-a132-99748d26a6ac",
   "metadata": {},
   "outputs": [
    {
     "name": "stdout",
     "output_type": "stream",
     "text": [
      "init executed\n"
     ]
    }
   ],
   "source": [
    "atlas = Person()"
   ]
  },
  {
   "cell_type": "code",
   "execution_count": 18,
   "id": "0ef5c19a-ef2e-4ef9-8d9f-c961638daf16",
   "metadata": {},
   "outputs": [
    {
     "data": {
      "text/plain": [
       "__main__.Person"
      ]
     },
     "execution_count": 18,
     "metadata": {},
     "output_type": "execute_result"
    }
   ],
   "source": [
    "type(atil)"
   ]
  },
  {
   "cell_type": "code",
   "execution_count": 19,
   "id": "d08cc66f-5d64-4820-839e-8081f7dced96",
   "metadata": {},
   "outputs": [
    {
     "data": {
      "text/plain": [
       "__main__.Person"
      ]
     },
     "execution_count": 19,
     "metadata": {},
     "output_type": "execute_result"
    }
   ],
   "source": [
    "type(atlas)"
   ]
  },
  {
   "cell_type": "code",
   "execution_count": 20,
   "id": "7aa23f68-5e0a-4ce7-a5e6-49369731d636",
   "metadata": {},
   "outputs": [],
   "source": [
    "class Person():\n",
    "    name = \"\"\n",
    "    age = 0\n",
    "    gender = \"\"\n",
    "\n",
    "    #method, initializer\n",
    "    def __init__(self,nameInput,ageInput,genderInput): \n",
    "        name = nameInput\n",
    "        age = ageInput\n",
    "        gender = genderInput"
   ]
  },
  {
   "cell_type": "code",
   "execution_count": 21,
   "id": "91926c5c-f902-43db-b043-f3702f3d1097",
   "metadata": {},
   "outputs": [],
   "source": [
    "atil = Person(\"Atil\",35,\"Male\")"
   ]
  },
  {
   "cell_type": "code",
   "execution_count": 22,
   "id": "99a15a01-ad29-4ab2-8b8f-1840bfab475e",
   "metadata": {},
   "outputs": [
    {
     "data": {
      "text/plain": [
       "__main__.Person"
      ]
     },
     "execution_count": 22,
     "metadata": {},
     "output_type": "execute_result"
    }
   ],
   "source": [
    "type(atil)"
   ]
  },
  {
   "cell_type": "code",
   "execution_count": 23,
   "id": "0e8d866e-f9d9-466a-a7ca-ec46d459de19",
   "metadata": {},
   "outputs": [
    {
     "data": {
      "text/plain": [
       "''"
      ]
     },
     "execution_count": 23,
     "metadata": {},
     "output_type": "execute_result"
    }
   ],
   "source": [
    "atil.name"
   ]
  },
  {
   "cell_type": "code",
   "execution_count": 24,
   "id": "598c0f98-ae97-4507-a995-fd58e13ffb60",
   "metadata": {},
   "outputs": [
    {
     "data": {
      "text/plain": [
       "0"
      ]
     },
     "execution_count": 24,
     "metadata": {},
     "output_type": "execute_result"
    }
   ],
   "source": [
    "atil.age"
   ]
  },
  {
   "cell_type": "code",
   "execution_count": 25,
   "id": "f549a164-a3eb-45cb-8932-909f481049b1",
   "metadata": {},
   "outputs": [
    {
     "data": {
      "text/plain": [
       "''"
      ]
     },
     "execution_count": 25,
     "metadata": {},
     "output_type": "execute_result"
    }
   ],
   "source": [
    "atil.gender"
   ]
  },
  {
   "cell_type": "code",
   "execution_count": 26,
   "id": "fb7ab75c-3f88-4af5-8de5-228cf6880e64",
   "metadata": {},
   "outputs": [],
   "source": [
    "class Person():\n",
    "    #property\n",
    "    #name = \"\"\n",
    "    #age = 0\n",
    "    #gender = \"\"\n",
    "    job = \"developer\"\n",
    "    \n",
    "    #initializer method\n",
    "    def __init__(self,name,age,gender): \n",
    "        self.name = name\n",
    "        self.age = age\n",
    "        self.gender = gender\n",
    "        \n",
    "    #method\n",
    "    def printName(self):\n",
    "        print(self.name)"
   ]
  },
  {
   "cell_type": "code",
   "execution_count": 27,
   "id": "a52de08e-c017-4c31-886a-ae62a6ffb743",
   "metadata": {},
   "outputs": [],
   "source": [
    "atil = Person(\"Atil\",35,\"Male\")"
   ]
  },
  {
   "cell_type": "code",
   "execution_count": 28,
   "id": "f87bf65e-72d1-4f9f-a6aa-3e2b451d426d",
   "metadata": {},
   "outputs": [
    {
     "data": {
      "text/plain": [
       "'Atil'"
      ]
     },
     "execution_count": 28,
     "metadata": {},
     "output_type": "execute_result"
    }
   ],
   "source": [
    "atil.name"
   ]
  },
  {
   "cell_type": "code",
   "execution_count": 29,
   "id": "07dc883e-8796-44a4-8e93-2ec3b48014b2",
   "metadata": {},
   "outputs": [
    {
     "data": {
      "text/plain": [
       "35"
      ]
     },
     "execution_count": 29,
     "metadata": {},
     "output_type": "execute_result"
    }
   ],
   "source": [
    "atil.age"
   ]
  },
  {
   "cell_type": "code",
   "execution_count": 30,
   "id": "2dcff83d-a71f-40d6-8f17-01b2aa3c433c",
   "metadata": {},
   "outputs": [
    {
     "data": {
      "text/plain": [
       "'Atil'"
      ]
     },
     "execution_count": 30,
     "metadata": {},
     "output_type": "execute_result"
    }
   ],
   "source": [
    "atil.name"
   ]
  },
  {
   "cell_type": "code",
   "execution_count": 31,
   "id": "4a5be9f7-fd58-4f23-8fb7-13692e6bcf44",
   "metadata": {},
   "outputs": [
    {
     "name": "stdout",
     "output_type": "stream",
     "text": [
      "Atil\n"
     ]
    }
   ],
   "source": [
    "atil.printName()"
   ]
  },
  {
   "cell_type": "code",
   "execution_count": 32,
   "id": "f998a5c6-3783-470a-8fd5-f5594ab315c9",
   "metadata": {},
   "outputs": [
    {
     "data": {
      "text/plain": [
       "'developer'"
      ]
     },
     "execution_count": 32,
     "metadata": {},
     "output_type": "execute_result"
    }
   ],
   "source": [
    "atil.job"
   ]
  },
  {
   "cell_type": "code",
   "execution_count": 33,
   "id": "080f26cd-a4a2-4773-a06f-c4ea288a1858",
   "metadata": {},
   "outputs": [],
   "source": [
    "atil.job = \"Instructor\""
   ]
  },
  {
   "cell_type": "code",
   "execution_count": 34,
   "id": "1fa53b6e-67a5-4889-a16f-9e9a0a19b97d",
   "metadata": {},
   "outputs": [
    {
     "data": {
      "text/plain": [
       "'Instructor'"
      ]
     },
     "execution_count": 34,
     "metadata": {},
     "output_type": "execute_result"
    }
   ],
   "source": [
    "atil.job"
   ]
  },
  {
   "cell_type": "code",
   "execution_count": 35,
   "id": "0bd1774b-e871-43db-bf97-538e0db9aa28",
   "metadata": {},
   "outputs": [],
   "source": [
    "class Dog():\n",
    "\n",
    "    year = 7\n",
    "    \n",
    "    def __init__(self,age = 5):\n",
    "        self.age = age\n",
    "        self.dogHumanAge = age * self.year\n",
    "        print(\"dog instance\")\n",
    "\n",
    "    def humanAge(self):\n",
    "        return self.age * Dog.year #Dog.year -> self.year"
   ]
  },
  {
   "cell_type": "code",
   "execution_count": 36,
   "id": "8d941e3a-8638-4a5c-bb06-05a599f12c78",
   "metadata": {},
   "outputs": [
    {
     "name": "stdout",
     "output_type": "stream",
     "text": [
      "dog instance\n"
     ]
    }
   ],
   "source": [
    "myDog = Dog(3)"
   ]
  },
  {
   "cell_type": "code",
   "execution_count": 37,
   "id": "5e5da0f0-2b6f-42dc-a622-1356303c0622",
   "metadata": {},
   "outputs": [
    {
     "data": {
      "text/plain": [
       "3"
      ]
     },
     "execution_count": 37,
     "metadata": {},
     "output_type": "execute_result"
    }
   ],
   "source": [
    "myDog.age"
   ]
  },
  {
   "cell_type": "code",
   "execution_count": 38,
   "id": "c6e99c92-ac88-49cb-b526-84cf74def27c",
   "metadata": {},
   "outputs": [
    {
     "data": {
      "text/plain": [
       "21"
      ]
     },
     "execution_count": 38,
     "metadata": {},
     "output_type": "execute_result"
    }
   ],
   "source": [
    "myDog.dogHumanAge"
   ]
  },
  {
   "cell_type": "code",
   "execution_count": 39,
   "id": "83962078-87b8-41fb-846f-a2d4fad5a81c",
   "metadata": {},
   "outputs": [
    {
     "name": "stdout",
     "output_type": "stream",
     "text": [
      "dog instance\n"
     ]
    }
   ],
   "source": [
    "barley = Dog()"
   ]
  },
  {
   "cell_type": "code",
   "execution_count": 40,
   "id": "702af703-9946-4b68-888c-cc4bfe4123bd",
   "metadata": {},
   "outputs": [
    {
     "data": {
      "text/plain": [
       "5"
      ]
     },
     "execution_count": 40,
     "metadata": {},
     "output_type": "execute_result"
    }
   ],
   "source": [
    "barley.age"
   ]
  },
  {
   "cell_type": "code",
   "execution_count": 41,
   "id": "8138d299-e969-46ec-9347-68e70cacf6c3",
   "metadata": {},
   "outputs": [
    {
     "data": {
      "text/plain": [
       "35"
      ]
     },
     "execution_count": 41,
     "metadata": {},
     "output_type": "execute_result"
    }
   ],
   "source": [
    "barley.dogHumanAge"
   ]
  }
 ],
 "metadata": {
  "kernelspec": {
   "display_name": "Python 3 (ipykernel)",
   "language": "python",
   "name": "python3"
  },
  "language_info": {
   "codemirror_mode": {
    "name": "ipython",
    "version": 3
   },
   "file_extension": ".py",
   "mimetype": "text/x-python",
   "name": "python",
   "nbconvert_exporter": "python",
   "pygments_lexer": "ipython3",
   "version": "3.12.7"
  }
 },
 "nbformat": 4,
 "nbformat_minor": 5
}
