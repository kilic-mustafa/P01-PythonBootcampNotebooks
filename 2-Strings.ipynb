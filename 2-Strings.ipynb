{
 "cells": [
  {
   "cell_type": "code",
   "execution_count": 1,
   "id": "74220267-fbf2-4d88-bdb2-de8b682902ca",
   "metadata": {},
   "outputs": [
    {
     "data": {
      "text/plain": [
       "'Hello World'"
      ]
     },
     "execution_count": 1,
     "metadata": {},
     "output_type": "execute_result"
    }
   ],
   "source": [
    "\"Hello World\""
   ]
  },
  {
   "cell_type": "code",
   "execution_count": 2,
   "id": "e1ea31aa-4b6e-460b-aa79-4b498f556223",
   "metadata": {},
   "outputs": [
    {
     "name": "stdout",
     "output_type": "stream",
     "text": [
      "Hello Python\n"
     ]
    }
   ],
   "source": [
    "print(\"Hello Python\")"
   ]
  },
  {
   "cell_type": "code",
   "execution_count": 3,
   "id": "3e07ffd7-4818-4349-9683-9c14cdc3b90c",
   "metadata": {},
   "outputs": [],
   "source": [
    "name = \"Mustafa\""
   ]
  },
  {
   "cell_type": "code",
   "execution_count": 4,
   "id": "6bb8d7bb-dc7b-4d1f-aa7d-71492124cb73",
   "metadata": {},
   "outputs": [
    {
     "data": {
      "text/plain": [
       "str"
      ]
     },
     "execution_count": 4,
     "metadata": {},
     "output_type": "execute_result"
    }
   ],
   "source": [
    "type(name)"
   ]
  },
  {
   "cell_type": "code",
   "execution_count": 5,
   "id": "1154a041-c9ad-43fb-a14d-dd9df4ad6d07",
   "metadata": {},
   "outputs": [
    {
     "data": {
      "text/plain": [
       "'Mustafa Restaurant'"
      ]
     },
     "execution_count": 5,
     "metadata": {},
     "output_type": "execute_result"
    }
   ],
   "source": [
    "'Mustafa Restaurant'"
   ]
  },
  {
   "cell_type": "code",
   "execution_count": 6,
   "id": "82ce37d9-3561-4229-a67c-6959ce3e844c",
   "metadata": {},
   "outputs": [
    {
     "data": {
      "text/plain": [
       "'Mustafa Restaurant'"
      ]
     },
     "execution_count": 6,
     "metadata": {},
     "output_type": "execute_result"
    }
   ],
   "source": [
    "\"Mustafa Restaurant\""
   ]
  },
  {
   "cell_type": "code",
   "execution_count": 7,
   "id": "f92b7bdd-d3a7-496d-8638-636bfd49f555",
   "metadata": {},
   "outputs": [
    {
     "data": {
      "text/plain": [
       "\"Mustafa's Restaurant\""
      ]
     },
     "execution_count": 7,
     "metadata": {},
     "output_type": "execute_result"
    }
   ],
   "source": [
    "\"Mustafa's Restaurant\""
   ]
  },
  {
   "cell_type": "code",
   "execution_count": 8,
   "id": "d9d71db3-1b91-4832-bd03-772f3439b475",
   "metadata": {},
   "outputs": [],
   "source": [
    "name = \"Mustafa\""
   ]
  },
  {
   "cell_type": "code",
   "execution_count": 9,
   "id": "3a0a80ff-5b64-4d1b-8ddc-1917e8c98bff",
   "metadata": {},
   "outputs": [
    {
     "data": {
      "text/plain": [
       "str"
      ]
     },
     "execution_count": 9,
     "metadata": {},
     "output_type": "execute_result"
    }
   ],
   "source": [
    "type(name)"
   ]
  },
  {
   "cell_type": "code",
   "execution_count": 10,
   "id": "78a07ff9-6a1d-47f0-ae67-f7c762eed92d",
   "metadata": {},
   "outputs": [],
   "source": [
    "name = \"Mustafa Kilic\""
   ]
  },
  {
   "cell_type": "code",
   "execution_count": 11,
   "id": "f4aedbf3-223f-49cc-a6ba-95bc99ff9cfc",
   "metadata": {},
   "outputs": [
    {
     "data": {
      "text/plain": [
       "'Mustafa kilic'"
      ]
     },
     "execution_count": 11,
     "metadata": {},
     "output_type": "execute_result"
    }
   ],
   "source": [
    "name .capitalize()"
   ]
  },
  {
   "cell_type": "code",
   "execution_count": 12,
   "id": "f7aaa0d0-af69-4960-8f38-c3e57eaced02",
   "metadata": {},
   "outputs": [
    {
     "data": {
      "text/plain": [
       "<function str.capitalize()>"
      ]
     },
     "execution_count": 12,
     "metadata": {},
     "output_type": "execute_result"
    }
   ],
   "source": [
    "name.capitalize"
   ]
  },
  {
   "cell_type": "code",
   "execution_count": 13,
   "id": "5c180994-3db5-45e3-a7ac-8e6d47ae41bc",
   "metadata": {},
   "outputs": [],
   "source": [
    "x = 10"
   ]
  },
  {
   "cell_type": "code",
   "execution_count": 14,
   "id": "d37d782a-a738-4fb5-8ae5-258a3ac65038",
   "metadata": {},
   "outputs": [],
   "source": [
    "x = 8"
   ]
  },
  {
   "cell_type": "code",
   "execution_count": 15,
   "id": "52fa86e5-13c0-4f93-a7da-5da476907c0e",
   "metadata": {},
   "outputs": [
    {
     "data": {
      "text/plain": [
       "'Mustafa Kilic'"
      ]
     },
     "execution_count": 15,
     "metadata": {},
     "output_type": "execute_result"
    }
   ],
   "source": [
    "name"
   ]
  },
  {
   "cell_type": "code",
   "execution_count": 16,
   "id": "8f4e1177-0fce-46f2-bbe9-e3ee52bb4c47",
   "metadata": {},
   "outputs": [
    {
     "name": "stdout",
     "output_type": "stream",
     "text": [
      "Help on built-in function count:\n",
      "\n",
      "count(...) method of builtins.str instance\n",
      "    S.count(sub[, start[, end]]) -> int\n",
      "\n",
      "    Return the number of non-overlapping occurrences of substring sub in\n",
      "    string S[start:end].  Optional arguments start and end are\n",
      "    interpreted as in slice notation.\n",
      "\n"
     ]
    }
   ],
   "source": [
    "help(name.count)"
   ]
  },
  {
   "cell_type": "code",
   "execution_count": 17,
   "id": "a914401c-c134-4a09-906c-6f8d97c82845",
   "metadata": {},
   "outputs": [
    {
     "name": "stdout",
     "output_type": "stream",
     "text": [
      "Help on built-in function capitalize:\n",
      "\n",
      "capitalize() method of builtins.str instance\n",
      "    Return a capitalized version of the string.\n",
      "\n",
      "    More specifically, make the first character have upper case and the rest lower\n",
      "    case.\n",
      "\n"
     ]
    }
   ],
   "source": [
    "help(name.capitalize)"
   ]
  },
  {
   "cell_type": "code",
   "execution_count": 18,
   "id": "1a822bac-ddc9-4440-9d8b-23d48ab8b391",
   "metadata": {},
   "outputs": [
    {
     "data": {
      "text/plain": [
       "'Mustafa Kilic'"
      ]
     },
     "execution_count": 18,
     "metadata": {},
     "output_type": "execute_result"
    }
   ],
   "source": [
    "name"
   ]
  },
  {
   "cell_type": "code",
   "execution_count": 19,
   "id": "0cd03a87-6aac-4664-85b3-15c4ea712b7d",
   "metadata": {},
   "outputs": [
    {
     "data": {
      "text/plain": [
       "2"
      ]
     },
     "execution_count": 19,
     "metadata": {},
     "output_type": "execute_result"
    }
   ],
   "source": [
    "name.count(\"a\")"
   ]
  },
  {
   "cell_type": "code",
   "execution_count": 20,
   "id": "3457eb9f-a4de-49be-a218-4000c19232f2",
   "metadata": {},
   "outputs": [
    {
     "data": {
      "text/plain": [
       "0"
      ]
     },
     "execution_count": 20,
     "metadata": {},
     "output_type": "execute_result"
    }
   ],
   "source": [
    "name.count(\"b\")"
   ]
  },
  {
   "cell_type": "code",
   "execution_count": 21,
   "id": "1822478f-cd6b-4c46-b615-087cc2372042",
   "metadata": {},
   "outputs": [
    {
     "data": {
      "text/plain": [
       "'MUSTAFA KILIC'"
      ]
     },
     "execution_count": 21,
     "metadata": {},
     "output_type": "execute_result"
    }
   ],
   "source": [
    "name.upper()"
   ]
  },
  {
   "cell_type": "code",
   "execution_count": 22,
   "id": "db1258ad-77e7-40e7-b421-4039b7ed703d",
   "metadata": {},
   "outputs": [
    {
     "data": {
      "text/plain": [
       "'Mustafa Kilic'"
      ]
     },
     "execution_count": 22,
     "metadata": {},
     "output_type": "execute_result"
    }
   ],
   "source": [
    "name"
   ]
  },
  {
   "cell_type": "code",
   "execution_count": 23,
   "id": "0315028e-dfd3-45a4-86ea-f1adc66ea0f0",
   "metadata": {},
   "outputs": [],
   "source": [
    "x = 10\n",
    "y = 5"
   ]
  },
  {
   "cell_type": "code",
   "execution_count": 24,
   "id": "432f9332-f0b1-485a-b2bd-c7273294bd70",
   "metadata": {},
   "outputs": [
    {
     "data": {
      "text/plain": [
       "15"
      ]
     },
     "execution_count": 24,
     "metadata": {},
     "output_type": "execute_result"
    }
   ],
   "source": [
    "x + y"
   ]
  },
  {
   "cell_type": "code",
   "execution_count": 25,
   "id": "5f06a3a7-239d-42bf-ad57-cb018196393f",
   "metadata": {},
   "outputs": [],
   "source": [
    "z = x + y"
   ]
  },
  {
   "cell_type": "code",
   "execution_count": 26,
   "id": "a3ec01ab-2eb6-4540-bb25-f3688d56dc5f",
   "metadata": {},
   "outputs": [
    {
     "data": {
      "text/plain": [
       "15"
      ]
     },
     "execution_count": 26,
     "metadata": {},
     "output_type": "execute_result"
    }
   ],
   "source": [
    "z"
   ]
  },
  {
   "cell_type": "code",
   "execution_count": 27,
   "id": "a0d47248-351c-4234-9258-19c0c3f7b930",
   "metadata": {},
   "outputs": [],
   "source": [
    "nameUpper = name.upper()"
   ]
  },
  {
   "cell_type": "code",
   "execution_count": 28,
   "id": "e7f16acc-6f2a-4b76-aa90-0f0a1db90d51",
   "metadata": {},
   "outputs": [
    {
     "data": {
      "text/plain": [
       "'MUSTAFA KILIC'"
      ]
     },
     "execution_count": 28,
     "metadata": {},
     "output_type": "execute_result"
    }
   ],
   "source": [
    "nameUpper"
   ]
  },
  {
   "cell_type": "code",
   "execution_count": 29,
   "id": "def3a0d9-3bd8-4b29-b653-052fda5228b1",
   "metadata": {},
   "outputs": [
    {
     "data": {
      "text/plain": [
       "'Mustafa Kilic'"
      ]
     },
     "execution_count": 29,
     "metadata": {},
     "output_type": "execute_result"
    }
   ],
   "source": [
    "name"
   ]
  },
  {
   "cell_type": "code",
   "execution_count": 30,
   "id": "76305b8a-9b4a-497c-93b9-bdf72a21ab78",
   "metadata": {},
   "outputs": [
    {
     "name": "stdout",
     "output_type": "stream",
     "text": [
      "MUSTAFA KILIC\n"
     ]
    }
   ],
   "source": [
    "print(name.upper())"
   ]
  },
  {
   "cell_type": "code",
   "execution_count": 31,
   "id": "da04d18a-87ea-4c77-90f6-2848351260b5",
   "metadata": {},
   "outputs": [
    {
     "name": "stdout",
     "output_type": "stream",
     "text": [
      "Help on built-in function upper:\n",
      "\n",
      "upper() method of builtins.str instance\n",
      "    Return a copy of the string converted to uppercase.\n",
      "\n"
     ]
    }
   ],
   "source": [
    "help(name.upper)"
   ]
  },
  {
   "cell_type": "code",
   "execution_count": 32,
   "id": "fbc7c996-8a5b-433a-95e8-34fac745eff7",
   "metadata": {},
   "outputs": [
    {
     "data": {
      "text/plain": [
       "13"
      ]
     },
     "execution_count": 32,
     "metadata": {},
     "output_type": "execute_result"
    }
   ],
   "source": [
    "len(name) # length"
   ]
  },
  {
   "cell_type": "code",
   "execution_count": 33,
   "id": "72246b62-0e87-489f-a96c-813531ec10ff",
   "metadata": {},
   "outputs": [
    {
     "name": "stdout",
     "output_type": "stream",
     "text": [
      "Mustafa Kilic\n"
     ]
    }
   ],
   "source": [
    "print(\"Mustafa Kilic\")"
   ]
  },
  {
   "cell_type": "code",
   "execution_count": 34,
   "id": "aeab8433-721d-43a2-a4a9-63da3d826cc6",
   "metadata": {},
   "outputs": [
    {
     "name": "stdout",
     "output_type": "stream",
     "text": [
      "Mustafa \n",
      "Kilic\n"
     ]
    }
   ],
   "source": [
    "print(\"Mustafa \\nKilic\")"
   ]
  },
  {
   "cell_type": "markdown",
   "id": "b28cde78-67d2-47f7-95fd-d78a47d0a105",
   "metadata": {},
   "source": [
    "index"
   ]
  },
  {
   "cell_type": "code",
   "execution_count": 35,
   "id": "1682e566-fbe4-48ad-8968-957f41d41895",
   "metadata": {},
   "outputs": [],
   "source": [
    "myString = \"Hello Python\""
   ]
  },
  {
   "cell_type": "code",
   "execution_count": 36,
   "id": "3dfcad28-0e71-4bf7-94dc-00cd4d35f1f0",
   "metadata": {},
   "outputs": [
    {
     "data": {
      "text/plain": [
       "'o'"
      ]
     },
     "execution_count": 36,
     "metadata": {},
     "output_type": "execute_result"
    }
   ],
   "source": [
    "myString[4]"
   ]
  },
  {
   "cell_type": "code",
   "execution_count": 37,
   "id": "52ca12b3-e3fc-4de1-b6b1-0635fdbc5e8e",
   "metadata": {},
   "outputs": [
    {
     "data": {
      "text/plain": [
       "'H'"
      ]
     },
     "execution_count": 37,
     "metadata": {},
     "output_type": "execute_result"
    }
   ],
   "source": [
    "myString[0]"
   ]
  },
  {
   "cell_type": "code",
   "execution_count": 38,
   "id": "f1d9e86a-512b-4c69-90f5-e86eef54b60c",
   "metadata": {},
   "outputs": [
    {
     "data": {
      "text/plain": [
       "'e'"
      ]
     },
     "execution_count": 38,
     "metadata": {},
     "output_type": "execute_result"
    }
   ],
   "source": [
    "myString[1]"
   ]
  },
  {
   "cell_type": "code",
   "execution_count": 39,
   "id": "3d027845-bcac-4fdb-b21a-75a00c92f59a",
   "metadata": {},
   "outputs": [
    {
     "data": {
      "text/plain": [
       "'n'"
      ]
     },
     "execution_count": 39,
     "metadata": {},
     "output_type": "execute_result"
    }
   ],
   "source": [
    "myString[11]"
   ]
  },
  {
   "cell_type": "code",
   "execution_count": 40,
   "id": "371b5dd1-5712-46c8-b143-814c6cb885c1",
   "metadata": {},
   "outputs": [
    {
     "data": {
      "text/plain": [
       "'o'"
      ]
     },
     "execution_count": 40,
     "metadata": {},
     "output_type": "execute_result"
    }
   ],
   "source": [
    "myString[10]"
   ]
  },
  {
   "cell_type": "code",
   "execution_count": 41,
   "id": "59537981-b2ef-475a-9140-4f186224cc95",
   "metadata": {},
   "outputs": [
    {
     "data": {
      "text/plain": [
       "'Hello Python'"
      ]
     },
     "execution_count": 41,
     "metadata": {},
     "output_type": "execute_result"
    }
   ],
   "source": [
    "myString"
   ]
  },
  {
   "cell_type": "code",
   "execution_count": 42,
   "id": "447b0872-0263-4d60-a6f9-9aae786fe15b",
   "metadata": {},
   "outputs": [],
   "source": [
    "myString = \"mustafa kilic\""
   ]
  },
  {
   "cell_type": "code",
   "execution_count": 43,
   "id": "16dfa91e-0911-4a5a-a4ac-385505d37e31",
   "metadata": {},
   "outputs": [
    {
     "data": {
      "text/plain": [
       "'m'"
      ]
     },
     "execution_count": 43,
     "metadata": {},
     "output_type": "execute_result"
    }
   ],
   "source": [
    "myString[0]"
   ]
  },
  {
   "cell_type": "code",
   "execution_count": 44,
   "id": "f67f4407-026b-4360-ba19-2f1b1f354b37",
   "metadata": {},
   "outputs": [
    {
     "data": {
      "text/plain": [
       "'i'"
      ]
     },
     "execution_count": 44,
     "metadata": {},
     "output_type": "execute_result"
    }
   ],
   "source": [
    "myString[11]"
   ]
  },
  {
   "cell_type": "code",
   "execution_count": 45,
   "id": "c2c47e87-35fc-4b97-8ba2-5ac8e8bf1e28",
   "metadata": {},
   "outputs": [
    {
     "data": {
      "text/plain": [
       "'c'"
      ]
     },
     "execution_count": 45,
     "metadata": {},
     "output_type": "execute_result"
    }
   ],
   "source": [
    "myString[12]"
   ]
  },
  {
   "cell_type": "code",
   "execution_count": 46,
   "id": "df1056b2-c50c-487e-8b47-8e7de34a06b9",
   "metadata": {},
   "outputs": [
    {
     "data": {
      "text/plain": [
       "12"
      ]
     },
     "execution_count": 46,
     "metadata": {},
     "output_type": "execute_result"
    }
   ],
   "source": [
    "len(myString) - 1"
   ]
  },
  {
   "cell_type": "code",
   "execution_count": 47,
   "id": "a671796e-7079-4bd7-aa27-ded8cbd05c3e",
   "metadata": {},
   "outputs": [],
   "source": [
    "myName = \"james hetfield\""
   ]
  },
  {
   "cell_type": "code",
   "execution_count": 48,
   "id": "37e6fe53-d20f-4572-9089-a5b62dee8882",
   "metadata": {},
   "outputs": [
    {
     "data": {
      "text/plain": [
       "'d'"
      ]
     },
     "execution_count": 48,
     "metadata": {},
     "output_type": "execute_result"
    }
   ],
   "source": [
    "myName[len(myName) - 1]"
   ]
  },
  {
   "cell_type": "code",
   "execution_count": 49,
   "id": "4cea0ae6-de97-4cac-b417-4dea9fc85e1c",
   "metadata": {},
   "outputs": [
    {
     "data": {
      "text/plain": [
       "'d'"
      ]
     },
     "execution_count": 49,
     "metadata": {},
     "output_type": "execute_result"
    }
   ],
   "source": [
    "myName[-1]"
   ]
  },
  {
   "cell_type": "code",
   "execution_count": 50,
   "id": "5ec7dae2-d8a6-426f-beb7-1fc1dd1367a2",
   "metadata": {},
   "outputs": [
    {
     "data": {
      "text/plain": [
       "'l'"
      ]
     },
     "execution_count": 50,
     "metadata": {},
     "output_type": "execute_result"
    }
   ],
   "source": [
    "myName[-2]"
   ]
  },
  {
   "cell_type": "code",
   "execution_count": 51,
   "id": "a6552a01-faca-4446-ab09-3afc916f5f22",
   "metadata": {},
   "outputs": [],
   "source": [
    "barcode = \"ABCDE123432323\""
   ]
  },
  {
   "cell_type": "code",
   "execution_count": 52,
   "id": "faaa7e1f-49c7-483f-8452-828459fb5107",
   "metadata": {},
   "outputs": [
    {
     "data": {
      "text/plain": [
       "'A'"
      ]
     },
     "execution_count": 52,
     "metadata": {},
     "output_type": "execute_result"
    }
   ],
   "source": [
    "barcode[0]"
   ]
  },
  {
   "cell_type": "code",
   "execution_count": 53,
   "id": "30fc78aa-ce65-42f5-9d11-cae90887e9cb",
   "metadata": {},
   "outputs": [
    {
     "data": {
      "text/plain": [
       "'B'"
      ]
     },
     "execution_count": 53,
     "metadata": {},
     "output_type": "execute_result"
    }
   ],
   "source": [
    "barcode[1]"
   ]
  },
  {
   "cell_type": "code",
   "execution_count": 54,
   "id": "0a55f800-3e9a-48b2-965c-c1b9f0a89085",
   "metadata": {},
   "outputs": [
    {
     "data": {
      "text/plain": [
       "'C'"
      ]
     },
     "execution_count": 54,
     "metadata": {},
     "output_type": "execute_result"
    }
   ],
   "source": [
    "barcode[2]"
   ]
  },
  {
   "cell_type": "code",
   "execution_count": 55,
   "id": "26729b18-dbbd-42c0-bbd2-666bb5bfa15d",
   "metadata": {},
   "outputs": [
    {
     "data": {
      "text/plain": [
       "30"
      ]
     },
     "execution_count": 55,
     "metadata": {},
     "output_type": "execute_result"
    }
   ],
   "source": [
    "10 + 20"
   ]
  },
  {
   "cell_type": "code",
   "execution_count": 56,
   "id": "bdadde4b-d0a2-4594-bccc-469c81a65fd0",
   "metadata": {},
   "outputs": [
    {
     "data": {
      "text/plain": [
       "'AB'"
      ]
     },
     "execution_count": 56,
     "metadata": {},
     "output_type": "execute_result"
    }
   ],
   "source": [
    "\"A\" + \"B\""
   ]
  },
  {
   "cell_type": "code",
   "execution_count": 57,
   "id": "a3f28d04-2c77-4923-b43b-18d3b8acf4cd",
   "metadata": {},
   "outputs": [],
   "source": [
    "name = \"mustafa\""
   ]
  },
  {
   "cell_type": "code",
   "execution_count": 58,
   "id": "f7f4dcf5-5864-4cd9-9798-b9882f0c8a00",
   "metadata": {},
   "outputs": [],
   "source": [
    "surname = \"kilic\""
   ]
  },
  {
   "cell_type": "code",
   "execution_count": 59,
   "id": "8ef97b52-fc39-485f-acc7-d488a30a20f4",
   "metadata": {},
   "outputs": [],
   "source": [
    "fullName = name + \" \" + surname"
   ]
  },
  {
   "cell_type": "code",
   "execution_count": 60,
   "id": "12f82f35-6814-4d05-aada-8d56c52b044d",
   "metadata": {},
   "outputs": [
    {
     "data": {
      "text/plain": [
       "'mustafa kilic'"
      ]
     },
     "execution_count": 60,
     "metadata": {},
     "output_type": "execute_result"
    }
   ],
   "source": [
    "fullName"
   ]
  },
  {
   "cell_type": "code",
   "execution_count": 61,
   "id": "94671a69-75a0-466f-8042-9031e305862b",
   "metadata": {},
   "outputs": [
    {
     "data": {
      "text/plain": [
       "'mustafa kilicmustafa kilicmustafa kilicmustafa kilicmustafa kilic'"
      ]
     },
     "execution_count": 61,
     "metadata": {},
     "output_type": "execute_result"
    }
   ],
   "source": [
    "fullName * 5"
   ]
  },
  {
   "cell_type": "code",
   "execution_count": 62,
   "id": "10ff6162-1b02-4359-bbea-9c9c8826bb92",
   "metadata": {},
   "outputs": [
    {
     "data": {
      "text/plain": [
       "'aaaaaaaaaaaaaaaaaaaaaaaaaaaaaaaaaaaaaaaaaaaaaaaaaaaaaaaaaaaaaaaaaaaaaaaaaaaaaaaaaaaaaaaaaaaaaaaaaaaa'"
      ]
     },
     "execution_count": 62,
     "metadata": {},
     "output_type": "execute_result"
    }
   ],
   "source": [
    "100 * \"a\""
   ]
  },
  {
   "cell_type": "code",
   "execution_count": 63,
   "id": "cd428bc6-4b3c-4e93-a2a3-d0f6ccecc1c9",
   "metadata": {},
   "outputs": [
    {
     "data": {
      "text/plain": [
       "'ABCDE123432323'"
      ]
     },
     "execution_count": 63,
     "metadata": {},
     "output_type": "execute_result"
    }
   ],
   "source": [
    "barcode"
   ]
  },
  {
   "cell_type": "code",
   "execution_count": 64,
   "id": "83d65cbf-d850-421a-ada8-4538bcf68dc7",
   "metadata": {},
   "outputs": [
    {
     "data": {
      "text/plain": [
       "'ABC'"
      ]
     },
     "execution_count": 64,
     "metadata": {},
     "output_type": "execute_result"
    }
   ],
   "source": [
    "barcode[0] + barcode[1] + barcode[2]"
   ]
  },
  {
   "cell_type": "code",
   "execution_count": 65,
   "id": "b1cf5466-992e-42ce-bf34-90ebd65a4492",
   "metadata": {},
   "outputs": [],
   "source": [
    "# slicing, starting index, stopping index, stepping size"
   ]
  },
  {
   "cell_type": "code",
   "execution_count": 66,
   "id": "1cb00544-6b2a-4d1a-b8b7-bb96b63275e6",
   "metadata": {},
   "outputs": [
    {
     "data": {
      "text/plain": [
       "'ABCDE123432323'"
      ]
     },
     "execution_count": 66,
     "metadata": {},
     "output_type": "execute_result"
    }
   ],
   "source": [
    "barcode"
   ]
  },
  {
   "cell_type": "code",
   "execution_count": 67,
   "id": "da083ea6-5f44-4f32-b676-ae40996443e0",
   "metadata": {},
   "outputs": [
    {
     "data": {
      "text/plain": [
       "'ABCDE123432323'"
      ]
     },
     "execution_count": 67,
     "metadata": {},
     "output_type": "execute_result"
    }
   ],
   "source": [
    "barcode[::]"
   ]
  },
  {
   "cell_type": "code",
   "execution_count": 68,
   "id": "953d5c82-04be-4b8d-acac-4e1a4f972f4f",
   "metadata": {},
   "outputs": [],
   "source": [
    "# barcode[#starting index:#stopping index:#stepping size]"
   ]
  },
  {
   "cell_type": "code",
   "execution_count": 69,
   "id": "d9116c59-aeb5-4e1b-9aa6-16ebbf8c0fb7",
   "metadata": {},
   "outputs": [
    {
     "data": {
      "text/plain": [
       "'DE123432323'"
      ]
     },
     "execution_count": 69,
     "metadata": {},
     "output_type": "execute_result"
    }
   ],
   "source": [
    "barcode[3::] # starts from the 3rd index(inclusive)"
   ]
  },
  {
   "cell_type": "code",
   "execution_count": 70,
   "id": "e6820244-d389-4618-8cf7-2c047db4a30c",
   "metadata": {},
   "outputs": [
    {
     "data": {
      "text/plain": [
       "'ABC'"
      ]
     },
     "execution_count": 70,
     "metadata": {},
     "output_type": "execute_result"
    }
   ],
   "source": [
    "barcode[:3:] # stops at 3rd index(exclusive)"
   ]
  },
  {
   "cell_type": "code",
   "execution_count": 71,
   "id": "75dff456-6b52-4ed1-8548-d2f64c17686c",
   "metadata": {},
   "outputs": [
    {
     "data": {
      "text/plain": [
       "'ABCDE'"
      ]
     },
     "execution_count": 71,
     "metadata": {},
     "output_type": "execute_result"
    }
   ],
   "source": [
    "barcode[:5:]"
   ]
  },
  {
   "cell_type": "code",
   "execution_count": 72,
   "id": "0a730b5d-4902-4c05-97e3-892f4ba6afe4",
   "metadata": {},
   "outputs": [
    {
     "data": {
      "text/plain": [
       "'ABCDE123432323'"
      ]
     },
     "execution_count": 72,
     "metadata": {},
     "output_type": "execute_result"
    }
   ],
   "source": [
    "barcode"
   ]
  },
  {
   "cell_type": "code",
   "execution_count": 73,
   "id": "09a73212-659f-4d8a-b99e-97effa376e77",
   "metadata": {},
   "outputs": [
    {
     "data": {
      "text/plain": [
       "'ABCDE'"
      ]
     },
     "execution_count": 73,
     "metadata": {},
     "output_type": "execute_result"
    }
   ],
   "source": [
    "barcode[:5:]"
   ]
  },
  {
   "cell_type": "code",
   "execution_count": 74,
   "id": "27ead6de-7722-4c71-99a7-7661bdc0b1dd",
   "metadata": {},
   "outputs": [
    {
     "data": {
      "text/plain": [
       "'ABCDE123432323'"
      ]
     },
     "execution_count": 74,
     "metadata": {},
     "output_type": "execute_result"
    }
   ],
   "source": [
    "barcode"
   ]
  },
  {
   "cell_type": "code",
   "execution_count": 75,
   "id": "95e9bb84-f7b0-4d09-b75e-50959cd4e9e5",
   "metadata": {},
   "outputs": [
    {
     "data": {
      "text/plain": [
       "'ACE2422'"
      ]
     },
     "execution_count": 75,
     "metadata": {},
     "output_type": "execute_result"
    }
   ],
   "source": [
    "barcode[::2]"
   ]
  },
  {
   "cell_type": "code",
   "execution_count": 76,
   "id": "1bfc93d0-b41e-4ade-85a8-0f119fd3d596",
   "metadata": {},
   "outputs": [
    {
     "data": {
      "text/plain": [
       "'AD232'"
      ]
     },
     "execution_count": 76,
     "metadata": {},
     "output_type": "execute_result"
    }
   ],
   "source": [
    "barcode[::3]"
   ]
  },
  {
   "cell_type": "code",
   "execution_count": 77,
   "id": "498775fa-a1dc-4bba-8b5f-52f66cbf102c",
   "metadata": {},
   "outputs": [
    {
     "data": {
      "text/plain": [
       "'ABCDE123432323'"
      ]
     },
     "execution_count": 77,
     "metadata": {},
     "output_type": "execute_result"
    }
   ],
   "source": [
    "barcode[::]"
   ]
  },
  {
   "cell_type": "code",
   "execution_count": 78,
   "id": "7197e490-d961-4653-b117-6e2f8397ec88",
   "metadata": {},
   "outputs": [
    {
     "data": {
      "text/plain": [
       "'DE'"
      ]
     },
     "execution_count": 78,
     "metadata": {},
     "output_type": "execute_result"
    }
   ],
   "source": [
    "barcode[3:5:]"
   ]
  },
  {
   "cell_type": "code",
   "execution_count": 79,
   "id": "c2fb4bf9-696e-4a92-8a99-108705d9d956",
   "metadata": {},
   "outputs": [
    {
     "data": {
      "text/plain": [
       "'DE'"
      ]
     },
     "execution_count": 79,
     "metadata": {},
     "output_type": "execute_result"
    }
   ],
   "source": [
    "barcode[3:5]"
   ]
  },
  {
   "cell_type": "code",
   "execution_count": 80,
   "id": "5882202d-5f16-4cab-8ea9-0dd427ce176f",
   "metadata": {},
   "outputs": [
    {
     "data": {
      "text/plain": [
       "'BD13'"
      ]
     },
     "execution_count": 80,
     "metadata": {},
     "output_type": "execute_result"
    }
   ],
   "source": [
    "barcode[1:9:2]"
   ]
  },
  {
   "cell_type": "code",
   "execution_count": 81,
   "id": "33facdfb-8919-4d76-b9dc-2dab6dcc8bce",
   "metadata": {},
   "outputs": [
    {
     "data": {
      "text/plain": [
       "'323234321EDCBA'"
      ]
     },
     "execution_count": 81,
     "metadata": {},
     "output_type": "execute_result"
    }
   ],
   "source": [
    "barcode[::-1]"
   ]
  },
  {
   "cell_type": "code",
   "execution_count": 82,
   "id": "c8de2a90-168b-4bdf-9f8c-89fb57698d6b",
   "metadata": {},
   "outputs": [
    {
     "data": {
      "text/plain": [
       "'ABCDE123432323'"
      ]
     },
     "execution_count": 82,
     "metadata": {},
     "output_type": "execute_result"
    }
   ],
   "source": [
    "barcode[::]"
   ]
  },
  {
   "cell_type": "code",
   "execution_count": 83,
   "id": "b95f6d31-9c77-4af5-909a-2b7ce37e3f7b",
   "metadata": {},
   "outputs": [],
   "source": [
    "name = \"mustafa kilic\""
   ]
  },
  {
   "cell_type": "code",
   "execution_count": 84,
   "id": "07ddb453-b726-4041-b915-4b96cb678a58",
   "metadata": {},
   "outputs": [
    {
     "name": "stdout",
     "output_type": "stream",
     "text": [
      "Help on built-in function index:\n",
      "\n",
      "index(...) method of builtins.str instance\n",
      "    S.index(sub[, start[, end]]) -> int\n",
      "\n",
      "    Return the lowest index in S where substring sub is found,\n",
      "    such that sub is contained within S[start:end].  Optional\n",
      "    arguments start and end are interpreted as in slice notation.\n",
      "\n",
      "    Raises ValueError when the substring is not found.\n",
      "\n"
     ]
    }
   ],
   "source": [
    "help(name.index)"
   ]
  },
  {
   "cell_type": "code",
   "execution_count": 85,
   "id": "5c5a907d-980f-4f46-b9ec-d8a238e0d2fc",
   "metadata": {},
   "outputs": [
    {
     "data": {
      "text/plain": [
       "2"
      ]
     },
     "execution_count": 85,
     "metadata": {},
     "output_type": "execute_result"
    }
   ],
   "source": [
    "name.index(\"s\")"
   ]
  },
  {
   "cell_type": "code",
   "execution_count": 86,
   "id": "ade16b47-80de-4aa4-bf76-1965465f7b33",
   "metadata": {},
   "outputs": [
    {
     "data": {
      "text/plain": [
       "['mustafa', 'kilic']"
      ]
     },
     "execution_count": 86,
     "metadata": {},
     "output_type": "execute_result"
    }
   ],
   "source": [
    "name.split() # If nothing is provided, it splits based on whitespace"
   ]
  },
  {
   "cell_type": "code",
   "execution_count": 87,
   "id": "92ab8232-8887-4832-b360-e0b3577813e0",
   "metadata": {},
   "outputs": [
    {
     "data": {
      "text/plain": [
       "['mustafa ki', 'ic']"
      ]
     },
     "execution_count": 87,
     "metadata": {},
     "output_type": "execute_result"
    }
   ],
   "source": [
    "name.split(\"l\")"
   ]
  },
  {
   "cell_type": "code",
   "execution_count": 88,
   "id": "03bfac0a-3ebf-44b7-9958-33ce637f5a7a",
   "metadata": {},
   "outputs": [
    {
     "data": {
      "text/plain": [
       "['m', 'stafa kilic']"
      ]
     },
     "execution_count": 88,
     "metadata": {},
     "output_type": "execute_result"
    }
   ],
   "source": [
    "name.split(\"u\")"
   ]
  },
  {
   "cell_type": "code",
   "execution_count": 89,
   "id": "d5ed980d-7ed7-4334-9533-88410fead585",
   "metadata": {},
   "outputs": [
    {
     "data": {
      "text/plain": [
       "['mustafa kilic']"
      ]
     },
     "execution_count": 89,
     "metadata": {},
     "output_type": "execute_result"
    }
   ],
   "source": [
    "name.split(\"2\") # If something that doesn't exist in the string is provided as the delimiter, the string will remain unchanged"
   ]
  },
  {
   "cell_type": "code",
   "execution_count": 90,
   "id": "20334ecb-d029-4737-940f-8bfb9177d95e",
   "metadata": {},
   "outputs": [
    {
     "data": {
      "text/plain": [
       "list"
      ]
     },
     "execution_count": 90,
     "metadata": {},
     "output_type": "execute_result"
    }
   ],
   "source": [
    "type(name.split())"
   ]
  }
 ],
 "metadata": {
  "kernelspec": {
   "display_name": "Python 3 (ipykernel)",
   "language": "python",
   "name": "python3"
  },
  "language_info": {
   "codemirror_mode": {
    "name": "ipython",
    "version": 3
   },
   "file_extension": ".py",
   "mimetype": "text/x-python",
   "name": "python",
   "nbconvert_exporter": "python",
   "pygments_lexer": "ipython3",
   "version": "3.12.7"
  }
 },
 "nbformat": 4,
 "nbformat_minor": 5
}
