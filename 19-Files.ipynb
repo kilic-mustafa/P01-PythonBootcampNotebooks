{
 "cells": [
  {
   "cell_type": "code",
   "execution_count": 1,
   "id": "74d16029-cfde-4063-b373-f473445a5bd2",
   "metadata": {},
   "outputs": [
    {
     "name": "stdout",
     "output_type": "stream",
     "text": [
      "Overwriting myfile.txt\n"
     ]
    }
   ],
   "source": [
    "%%writefile myfile.txt\n",
    "test 1 \n",
    "test 2 \n",
    "test 3 "
   ]
  },
  {
   "cell_type": "code",
   "execution_count": 2,
   "id": "deb1de36-9e93-430d-bc08-7665df4af6fe",
   "metadata": {
    "scrolled": true
   },
   "outputs": [],
   "source": [
    "myFile = open(\"myfile.txt\")"
   ]
  },
  {
   "cell_type": "code",
   "execution_count": 3,
   "id": "8c137faf-9fde-4bca-9dc0-341be8fb5bf0",
   "metadata": {},
   "outputs": [],
   "source": [
    "# If the file is located in different path, we should write it like this:"
   ]
  },
  {
   "cell_type": "code",
   "execution_count": 4,
   "id": "e09e2e1a-72e9-4af1-9096-fb7539c7b321",
   "metadata": {},
   "outputs": [],
   "source": [
    "# \"C:/Users/Mustafa/Desktop/Eğitimler/Güncel Eğitimler/2-Udemy-Python Bootcamp/myfile.txt\""
   ]
  },
  {
   "cell_type": "code",
   "execution_count": 5,
   "id": "767f57f0-3782-42c5-8781-ea37cb0a684e",
   "metadata": {},
   "outputs": [
    {
     "data": {
      "text/plain": [
       "_io.TextIOWrapper"
      ]
     },
     "execution_count": 5,
     "metadata": {},
     "output_type": "execute_result"
    }
   ],
   "source": [
    "type(myFile)"
   ]
  },
  {
   "cell_type": "code",
   "execution_count": 6,
   "id": "e309fb00-529e-4ee0-9cbe-f6716219d819",
   "metadata": {},
   "outputs": [
    {
     "data": {
      "text/plain": [
       "'test 1 \\ntest 2 \\ntest 3 \\n'"
      ]
     },
     "execution_count": 6,
     "metadata": {},
     "output_type": "execute_result"
    }
   ],
   "source": [
    "myFile.read()"
   ]
  },
  {
   "cell_type": "code",
   "execution_count": 7,
   "id": "5a137241-a8bf-489c-9eba-997eb7c10f6e",
   "metadata": {},
   "outputs": [
    {
     "data": {
      "text/plain": [
       "''"
      ]
     },
     "execution_count": 7,
     "metadata": {},
     "output_type": "execute_result"
    }
   ],
   "source": [
    "myFile.read()"
   ]
  },
  {
   "cell_type": "code",
   "execution_count": 8,
   "id": "f301b7a9-3f5d-4533-9594-8950092c7624",
   "metadata": {},
   "outputs": [
    {
     "data": {
      "text/plain": [
       "0"
      ]
     },
     "execution_count": 8,
     "metadata": {},
     "output_type": "execute_result"
    }
   ],
   "source": [
    "myFile.seek(0)"
   ]
  },
  {
   "cell_type": "code",
   "execution_count": 9,
   "id": "57a26d54-7b9a-48d0-aa9f-b4da228c23fc",
   "metadata": {},
   "outputs": [
    {
     "data": {
      "text/plain": [
       "'test 1 \\ntest 2 \\ntest 3 \\n'"
      ]
     },
     "execution_count": 9,
     "metadata": {},
     "output_type": "execute_result"
    }
   ],
   "source": [
    "myFile.read()"
   ]
  },
  {
   "cell_type": "markdown",
   "id": "449e7f33-1c2e-4d0a-9c1e-8aa95cf0ef84",
   "metadata": {},
   "source": [
    "myFile.read()"
   ]
  },
  {
   "cell_type": "code",
   "execution_count": 10,
   "id": "79494f04-b9cb-4120-9c15-0b133e131fd9",
   "metadata": {},
   "outputs": [],
   "source": [
    "myFile.close()"
   ]
  },
  {
   "cell_type": "markdown",
   "id": "e5f93877-f43f-4098-8840-86a054aa09e7",
   "metadata": {},
   "source": [
    "**with open(\"fileName.txt\") as variableName**"
   ]
  },
  {
   "cell_type": "code",
   "execution_count": 11,
   "id": "db70d792-35eb-4810-af76-2deaed41a811",
   "metadata": {},
   "outputs": [],
   "source": [
    "with open(\"myFile.txt\") as myFile:\n",
    "     myContent = myFile.read()"
   ]
  },
  {
   "cell_type": "code",
   "execution_count": 12,
   "id": "b5246ffd-5a83-48da-ac7b-e484d31f5e6d",
   "metadata": {},
   "outputs": [
    {
     "data": {
      "text/plain": [
       "'test 1 \\ntest 2 \\ntest 3 \\n'"
      ]
     },
     "execution_count": 12,
     "metadata": {},
     "output_type": "execute_result"
    }
   ],
   "source": [
    "myContent"
   ]
  },
  {
   "cell_type": "code",
   "execution_count": 13,
   "id": "4d60b7ed-7398-44fc-9a5b-d5715c652e45",
   "metadata": {},
   "outputs": [
    {
     "data": {
      "text/plain": [
       "'test 1 \\ntest 2 \\ntest 3 \\n'"
      ]
     },
     "execution_count": 13,
     "metadata": {},
     "output_type": "execute_result"
    }
   ],
   "source": [
    "myContent"
   ]
  },
  {
   "cell_type": "markdown",
   "id": "f1ea7170-6759-49e1-8a22-fe948621ee85",
   "metadata": {},
   "source": [
    "**w -> write, r -> read, a -> append**"
   ]
  },
  {
   "cell_type": "code",
   "execution_count": 14,
   "id": "b2eab2db-0e36-4f66-a5a1-3eaae948e151",
   "metadata": {},
   "outputs": [],
   "source": [
    "with open(\"myfile.txt\", mode=\"w\") as myNewFile:\n",
    "    myNewFile.write(\"test 4\")"
   ]
  },
  {
   "cell_type": "code",
   "execution_count": 15,
   "id": "da58a9be-794a-4947-a9c2-dcabf790bb6a",
   "metadata": {},
   "outputs": [
    {
     "data": {
      "text/plain": [
       "<_io.TextIOWrapper name='myfile.txt' mode='w' encoding='cp1254'>"
      ]
     },
     "execution_count": 15,
     "metadata": {},
     "output_type": "execute_result"
    }
   ],
   "source": [
    "myNewFile"
   ]
  },
  {
   "cell_type": "code",
   "execution_count": 16,
   "id": "8fe807dd-d90f-4726-8cd4-4bcb64c0bb6c",
   "metadata": {},
   "outputs": [],
   "source": [
    "with open(\"myfile.txt\", mode=\"r\") as myNewFile2:\n",
    "    myContent = myNewFile2.read()"
   ]
  },
  {
   "cell_type": "code",
   "execution_count": 17,
   "id": "cc0b5a88-f096-4794-bc24-aa0b58ae8a34",
   "metadata": {},
   "outputs": [
    {
     "data": {
      "text/plain": [
       "<_io.TextIOWrapper name='myfile.txt' mode='r' encoding='cp1254'>"
      ]
     },
     "execution_count": 17,
     "metadata": {},
     "output_type": "execute_result"
    }
   ],
   "source": [
    "myNewFile2"
   ]
  },
  {
   "cell_type": "code",
   "execution_count": 18,
   "id": "da38d405-7ee3-48db-9fdc-fb38880d5923",
   "metadata": {},
   "outputs": [
    {
     "data": {
      "text/plain": [
       "'test 4'"
      ]
     },
     "execution_count": 18,
     "metadata": {},
     "output_type": "execute_result"
    }
   ],
   "source": [
    "myContent"
   ]
  },
  {
   "cell_type": "code",
   "execution_count": 19,
   "id": "cbfdbd3a-8002-43b9-a2b3-398c5cfa061c",
   "metadata": {},
   "outputs": [],
   "source": [
    "with open(\"myfile.txt\", mode=\"a\") as myNewFile3:\n",
    "    myNewFile3.write(\"\\ntest 5\")"
   ]
  },
  {
   "cell_type": "code",
   "execution_count": 20,
   "id": "93f2bddc-2d73-4a44-a29b-cf3d7dcdeae2",
   "metadata": {},
   "outputs": [],
   "source": [
    "with open(\"myfile.txt\", mode=\"r\") as myNewFile4:\n",
    "    myContent = myNewFile4.read()"
   ]
  },
  {
   "cell_type": "code",
   "execution_count": 21,
   "id": "c4485434-8b47-40e1-bb0b-4662ed9bd5fa",
   "metadata": {},
   "outputs": [
    {
     "data": {
      "text/plain": [
       "'test 4\\ntest 5'"
      ]
     },
     "execution_count": 21,
     "metadata": {},
     "output_type": "execute_result"
    }
   ],
   "source": [
    "myContent"
   ]
  }
 ],
 "metadata": {
  "kernelspec": {
   "display_name": "Python 3 (ipykernel)",
   "language": "python",
   "name": "python3"
  },
  "language_info": {
   "codemirror_mode": {
    "name": "ipython",
    "version": 3
   },
   "file_extension": ".py",
   "mimetype": "text/x-python",
   "name": "python",
   "nbconvert_exporter": "python",
   "pygments_lexer": "ipython3",
   "version": "3.12.7"
  }
 },
 "nbformat": 4,
 "nbformat_minor": 5
}
