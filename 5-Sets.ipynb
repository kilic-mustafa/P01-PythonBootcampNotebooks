{
 "cells": [
  {
   "cell_type": "code",
   "execution_count": 1,
   "id": "ca92c3c8-44c8-49a7-8f32-29e413889995",
   "metadata": {},
   "outputs": [],
   "source": [
    "#unique elements, unordered"
   ]
  },
  {
   "cell_type": "code",
   "execution_count": 5,
   "id": "c704d46f-bb19-4074-a5d0-9ce447df2e1a",
   "metadata": {},
   "outputs": [],
   "source": [
    "myList = [10,20,30,10,20,40,10,20,40]"
   ]
  },
  {
   "cell_type": "code",
   "execution_count": 6,
   "id": "c22c3fda-7982-4017-9616-362ba78f2010",
   "metadata": {},
   "outputs": [
    {
     "data": {
      "text/plain": [
       "9"
      ]
     },
     "execution_count": 6,
     "metadata": {},
     "output_type": "execute_result"
    }
   ],
   "source": [
    "len(myList)"
   ]
  },
  {
   "cell_type": "code",
   "execution_count": 7,
   "id": "6602c520-a476-4325-b073-6a554effe728",
   "metadata": {},
   "outputs": [
    {
     "data": {
      "text/plain": [
       "[10, 20, 30, 10, 20, 40, 10, 20, 40]"
      ]
     },
     "execution_count": 7,
     "metadata": {},
     "output_type": "execute_result"
    }
   ],
   "source": [
    "myList"
   ]
  },
  {
   "cell_type": "code",
   "execution_count": 8,
   "id": "757ab0f3-40c3-494b-82ec-7cf4717da94a",
   "metadata": {},
   "outputs": [],
   "source": [
    "mySet = set(myList)"
   ]
  },
  {
   "cell_type": "code",
   "execution_count": 9,
   "id": "40ba5aae-ffa8-48bb-a604-87335352755a",
   "metadata": {},
   "outputs": [
    {
     "data": {
      "text/plain": [
       "{10, 20, 30, 40}"
      ]
     },
     "execution_count": 9,
     "metadata": {},
     "output_type": "execute_result"
    }
   ],
   "source": [
    "mySet"
   ]
  },
  {
   "cell_type": "code",
   "execution_count": 10,
   "id": "4992c983-5a7a-4ab9-a5b1-e2a82f3408f2",
   "metadata": {},
   "outputs": [],
   "source": [
    "mySet = {10,20,30,10,20,40,10,20,40}"
   ]
  },
  {
   "cell_type": "code",
   "execution_count": 11,
   "id": "b4ef96ce-03ed-42e0-8b9a-465e35bb9f62",
   "metadata": {},
   "outputs": [
    {
     "data": {
      "text/plain": [
       "{10, 20, 30, 40}"
      ]
     },
     "execution_count": 11,
     "metadata": {},
     "output_type": "execute_result"
    }
   ],
   "source": [
    "mySet"
   ]
  },
  {
   "cell_type": "code",
   "execution_count": 12,
   "id": "d3091c12-1333-462d-b43e-d2a1dff4a42f",
   "metadata": {},
   "outputs": [],
   "source": [
    "mySet.add(10)"
   ]
  },
  {
   "cell_type": "code",
   "execution_count": 13,
   "id": "b956538a-f9e3-448e-83a3-601ea12a54da",
   "metadata": {},
   "outputs": [
    {
     "data": {
      "text/plain": [
       "{10, 20, 30, 40}"
      ]
     },
     "execution_count": 13,
     "metadata": {},
     "output_type": "execute_result"
    }
   ],
   "source": [
    "mySet"
   ]
  },
  {
   "cell_type": "code",
   "execution_count": 14,
   "id": "c1c5b085-871a-40e8-9857-36d0c95f14b2",
   "metadata": {},
   "outputs": [],
   "source": [
    "mySet.add(50)"
   ]
  },
  {
   "cell_type": "code",
   "execution_count": 15,
   "id": "96027724-e950-4c5d-bd07-be26179b971e",
   "metadata": {},
   "outputs": [
    {
     "data": {
      "text/plain": [
       "{10, 20, 30, 40, 50}"
      ]
     },
     "execution_count": 15,
     "metadata": {},
     "output_type": "execute_result"
    }
   ],
   "source": [
    "mySet"
   ]
  },
  {
   "cell_type": "code",
   "execution_count": 16,
   "id": "e8de4ce6-451a-4e51-ae28-8dccbfd2a665",
   "metadata": {},
   "outputs": [],
   "source": [
    "mySet2 = {30,40,50,60,70}"
   ]
  },
  {
   "cell_type": "code",
   "execution_count": 17,
   "id": "76e74d07-a095-434a-9a28-44b39de94618",
   "metadata": {},
   "outputs": [
    {
     "data": {
      "text/plain": [
       "{10, 20, 30, 40, 50}"
      ]
     },
     "execution_count": 17,
     "metadata": {},
     "output_type": "execute_result"
    }
   ],
   "source": [
    "mySet"
   ]
  },
  {
   "cell_type": "code",
   "execution_count": 18,
   "id": "dd9d8c73-ad43-4fc4-b8ad-04298f13a981",
   "metadata": {},
   "outputs": [
    {
     "data": {
      "text/plain": [
       "{10, 20, 30, 40, 50, 60, 70}"
      ]
     },
     "execution_count": 18,
     "metadata": {},
     "output_type": "execute_result"
    }
   ],
   "source": [
    "mySet.union(mySet2)"
   ]
  },
  {
   "cell_type": "code",
   "execution_count": 19,
   "id": "932fc608-3662-4c22-8f95-dde6c1b472b9",
   "metadata": {},
   "outputs": [
    {
     "data": {
      "text/plain": [
       "{30, 40, 50}"
      ]
     },
     "execution_count": 19,
     "metadata": {},
     "output_type": "execute_result"
    }
   ],
   "source": [
    "mySet.intersection(mySet2)"
   ]
  },
  {
   "cell_type": "code",
   "execution_count": 20,
   "id": "4847d656-2810-43ce-9777-7ebe1de82d60",
   "metadata": {},
   "outputs": [],
   "source": [
    "countryList = [\"de\",\"fr\",\"tr\",\"fr\",\"tr\",\"tr\",\"de\",\"nl\",\"de\",\"tr\"]"
   ]
  },
  {
   "cell_type": "code",
   "execution_count": 23,
   "id": "7a8341ce-0f8b-4a12-b3fc-9ec707dff2ef",
   "metadata": {},
   "outputs": [
    {
     "data": {
      "text/plain": [
       "10"
      ]
     },
     "execution_count": 23,
     "metadata": {},
     "output_type": "execute_result"
    }
   ],
   "source": [
    "len(countryList)"
   ]
  },
  {
   "cell_type": "code",
   "execution_count": 24,
   "id": "46f66fe8-9952-484b-9cf2-60d9a9773e2a",
   "metadata": {},
   "outputs": [
    {
     "data": {
      "text/plain": [
       "4"
      ]
     },
     "execution_count": 24,
     "metadata": {},
     "output_type": "execute_result"
    }
   ],
   "source": [
    "len(set(countryList))"
   ]
  },
  {
   "cell_type": "code",
   "execution_count": 35,
   "id": "ee3844e8-ef52-4faf-9d74-f67ab57a984e",
   "metadata": {},
   "outputs": [],
   "source": [
    "emptyList = []"
   ]
  },
  {
   "cell_type": "code",
   "execution_count": 36,
   "id": "4e88492e-c869-4c75-a77e-e74821f281e5",
   "metadata": {},
   "outputs": [],
   "source": [
    "emptyList.append(10)"
   ]
  },
  {
   "cell_type": "code",
   "execution_count": 37,
   "id": "effc8280-d7f2-4f0a-b25f-00f031d325fb",
   "metadata": {},
   "outputs": [],
   "source": [
    "emptyList.append(20)"
   ]
  },
  {
   "cell_type": "code",
   "execution_count": 38,
   "id": "e1fd2152-fdc6-4a7d-be74-7d8e63ca0179",
   "metadata": {},
   "outputs": [],
   "source": [
    "emptyList.append(30)"
   ]
  },
  {
   "cell_type": "code",
   "execution_count": 39,
   "id": "cb344272-a7df-471c-beac-669d7cbf44f3",
   "metadata": {},
   "outputs": [
    {
     "data": {
      "text/plain": [
       "[10, 20, 30]"
      ]
     },
     "execution_count": 39,
     "metadata": {},
     "output_type": "execute_result"
    }
   ],
   "source": [
    "emptyList"
   ]
  },
  {
   "cell_type": "code",
   "execution_count": 53,
   "id": "b8f74804-178f-41d8-89ec-839c7a1c473b",
   "metadata": {},
   "outputs": [],
   "source": [
    "emptySet = {}"
   ]
  },
  {
   "cell_type": "code",
   "execution_count": 54,
   "id": "7c8175a7-b27a-4727-bec6-08ecf4e1747b",
   "metadata": {},
   "outputs": [
    {
     "data": {
      "text/plain": [
       "dict"
      ]
     },
     "execution_count": 54,
     "metadata": {},
     "output_type": "execute_result"
    }
   ],
   "source": [
    "type(emptySet)"
   ]
  },
  {
   "cell_type": "code",
   "execution_count": 55,
   "id": "540792b8-7b38-4b32-8741-64ab5351b393",
   "metadata": {},
   "outputs": [],
   "source": [
    "emptySet = set()"
   ]
  },
  {
   "cell_type": "code",
   "execution_count": 56,
   "id": "ecb7d60b-4043-4782-b940-56650646c05c",
   "metadata": {},
   "outputs": [
    {
     "data": {
      "text/plain": [
       "set"
      ]
     },
     "execution_count": 56,
     "metadata": {},
     "output_type": "execute_result"
    }
   ],
   "source": [
    "type(emptySet)"
   ]
  },
  {
   "cell_type": "code",
   "execution_count": 57,
   "id": "41a3ddeb-8510-419a-9fef-6fd78e3df5d7",
   "metadata": {},
   "outputs": [
    {
     "data": {
      "text/plain": [
       "0"
      ]
     },
     "execution_count": 57,
     "metadata": {},
     "output_type": "execute_result"
    }
   ],
   "source": [
    "len(emptySet)"
   ]
  },
  {
   "cell_type": "code",
   "execution_count": 58,
   "id": "58d4685b-f214-4a57-bdce-1ae47c75a5de",
   "metadata": {},
   "outputs": [],
   "source": [
    "emptySet.add(10)\n",
    "emptySet.add(10)\n",
    "emptySet.add(10)\n",
    "emptySet.add(20)\n",
    "emptySet.add(30)"
   ]
  },
  {
   "cell_type": "code",
   "execution_count": 59,
   "id": "cdb6c299-9ba4-4328-ab84-bdf5c7e79e4c",
   "metadata": {},
   "outputs": [
    {
     "data": {
      "text/plain": [
       "{10, 20, 30}"
      ]
     },
     "execution_count": 59,
     "metadata": {},
     "output_type": "execute_result"
    }
   ],
   "source": [
    "emptySet"
   ]
  },
  {
   "cell_type": "code",
   "execution_count": 67,
   "id": "71c593c9-5985-49b9-8e3b-79064dd39a65",
   "metadata": {},
   "outputs": [],
   "source": [
    "emptyList = list()"
   ]
  },
  {
   "cell_type": "code",
   "execution_count": 68,
   "id": "cfac0ffb-fc44-4eae-b9b2-3bcbb2ec6bf0",
   "metadata": {},
   "outputs": [],
   "source": [
    "emptyList.append(10)\n",
    "emptyList.append(20)\n",
    "emptyList.append(30)"
   ]
  },
  {
   "cell_type": "code",
   "execution_count": 69,
   "id": "3a65b55f-38ee-4077-af06-9354fb052b3f",
   "metadata": {},
   "outputs": [
    {
     "data": {
      "text/plain": [
       "[10, 20, 30]"
      ]
     },
     "execution_count": 69,
     "metadata": {},
     "output_type": "execute_result"
    }
   ],
   "source": [
    "emptyList"
   ]
  },
  {
   "cell_type": "code",
   "execution_count": 61,
   "id": "2b8b5eaa-9b93-4aff-925a-5017bb96d908",
   "metadata": {},
   "outputs": [],
   "source": [
    "emptyDictionary = dict()"
   ]
  },
  {
   "cell_type": "code",
   "execution_count": 62,
   "id": "c9c7ecc4-a7f2-4cb3-b6cd-f6cafafa0e5a",
   "metadata": {},
   "outputs": [],
   "source": [
    "emptyDictionary[\"a\"] = 10\n",
    "emptyDictionary[\"b\"] = 20"
   ]
  },
  {
   "cell_type": "code",
   "execution_count": 63,
   "id": "9caabb70-7075-44b3-aaf1-cd5530af4fd1",
   "metadata": {},
   "outputs": [
    {
     "data": {
      "text/plain": [
       "{'a': 10, 'b': 20}"
      ]
     },
     "execution_count": 63,
     "metadata": {},
     "output_type": "execute_result"
    }
   ],
   "source": [
    "emptyDictionary"
   ]
  }
 ],
 "metadata": {
  "kernelspec": {
   "display_name": "Python 3 (ipykernel)",
   "language": "python",
   "name": "python3"
  },
  "language_info": {
   "codemirror_mode": {
    "name": "ipython",
    "version": 3
   },
   "file_extension": ".py",
   "mimetype": "text/x-python",
   "name": "python",
   "nbconvert_exporter": "python",
   "pygments_lexer": "ipython3",
   "version": "3.12.7"
  }
 },
 "nbformat": 4,
 "nbformat_minor": 5
}
